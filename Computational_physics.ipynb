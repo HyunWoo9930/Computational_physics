{
 "cells": [
  {
   "cell_type": "markdown",
   "source": [
    "# 전산물리 프로젝트 "
   ],
   "metadata": {
    "collapsed": false
   },
   "id": "f7fdddb646e0a3f"
  },
  {
   "cell_type": "code",
   "outputs": [],
   "source": [
    "import pandas as pd"
   ],
   "metadata": {
    "collapsed": false,
    "ExecuteTime": {
     "end_time": "2024-05-12T10:09:36.479276Z",
     "start_time": "2024-05-12T10:09:35.174317Z"
    }
   },
   "id": "3ba0369d9ee0119e",
   "execution_count": 2
  },
  {
   "cell_type": "code",
   "outputs": [
    {
     "data": {
      "text/plain": "(18, 9)"
     },
     "execution_count": 3,
     "metadata": {},
     "output_type": "execute_result"
    }
   ],
   "source": [
    "df_child_protection = pd.read_csv(\"data/Child_protection_zone.csv\", encoding=\"cp949\")\n",
    "df_school_location = pd.read_csv(\"data/School_location.data.csv\", encoding=\"cp949\")\n",
    "df_child_protection.shape"
   ],
   "metadata": {
    "collapsed": false,
    "ExecuteTime": {
     "end_time": "2024-05-12T10:09:36.532527Z",
     "start_time": "2024-05-12T10:09:36.479812Z"
    }
   },
   "id": "2c0ad80444ab1384",
   "execution_count": 3
  },
  {
   "cell_type": "code",
   "outputs": [
    {
     "data": {
      "text/plain": "   구분  초등학교  일반유치원  병설유치원  특수학교  어린이집  학원  외국인학교_대안학교_국제학교  조례로 정하는 시설 또는 장소\n0  서울   606    367    141    27   488  59               12                 0\n1  부산   306    283     91    15   146   2                3                 0\n2  대구   242    185    139    10   173   1                0                 0\n3  인천   270    173      0     9   202  13                0                 2\n4  광주   157    106      0     7   150   0                1                 0",
      "text/html": "<div>\n<style scoped>\n    .dataframe tbody tr th:only-of-type {\n        vertical-align: middle;\n    }\n\n    .dataframe tbody tr th {\n        vertical-align: top;\n    }\n\n    .dataframe thead th {\n        text-align: right;\n    }\n</style>\n<table border=\"1\" class=\"dataframe\">\n  <thead>\n    <tr style=\"text-align: right;\">\n      <th></th>\n      <th>구분</th>\n      <th>초등학교</th>\n      <th>일반유치원</th>\n      <th>병설유치원</th>\n      <th>특수학교</th>\n      <th>어린이집</th>\n      <th>학원</th>\n      <th>외국인학교_대안학교_국제학교</th>\n      <th>조례로 정하는 시설 또는 장소</th>\n    </tr>\n  </thead>\n  <tbody>\n    <tr>\n      <th>0</th>\n      <td>서울</td>\n      <td>606</td>\n      <td>367</td>\n      <td>141</td>\n      <td>27</td>\n      <td>488</td>\n      <td>59</td>\n      <td>12</td>\n      <td>0</td>\n    </tr>\n    <tr>\n      <th>1</th>\n      <td>부산</td>\n      <td>306</td>\n      <td>283</td>\n      <td>91</td>\n      <td>15</td>\n      <td>146</td>\n      <td>2</td>\n      <td>3</td>\n      <td>0</td>\n    </tr>\n    <tr>\n      <th>2</th>\n      <td>대구</td>\n      <td>242</td>\n      <td>185</td>\n      <td>139</td>\n      <td>10</td>\n      <td>173</td>\n      <td>1</td>\n      <td>0</td>\n      <td>0</td>\n    </tr>\n    <tr>\n      <th>3</th>\n      <td>인천</td>\n      <td>270</td>\n      <td>173</td>\n      <td>0</td>\n      <td>9</td>\n      <td>202</td>\n      <td>13</td>\n      <td>0</td>\n      <td>2</td>\n    </tr>\n    <tr>\n      <th>4</th>\n      <td>광주</td>\n      <td>157</td>\n      <td>106</td>\n      <td>0</td>\n      <td>7</td>\n      <td>150</td>\n      <td>0</td>\n      <td>1</td>\n      <td>0</td>\n    </tr>\n  </tbody>\n</table>\n</div>"
     },
     "execution_count": 4,
     "metadata": {},
     "output_type": "execute_result"
    }
   ],
   "source": [
    "df_child_protection.head()"
   ],
   "metadata": {
    "collapsed": false,
    "ExecuteTime": {
     "end_time": "2024-05-12T10:09:36.537883Z",
     "start_time": "2024-05-12T10:09:36.529829Z"
    }
   },
   "id": "8ffb66e0c727deed",
   "execution_count": 4
  },
  {
   "cell_type": "code",
   "outputs": [
    {
     "data": {
      "text/plain": "    구분  초등학교  일반유치원  병설유치원  특수학교  어린이집  학원  외국인학교_대안학교_국제학교  조례로 정하는 시설 또는 장소\n13  전북   419    102    349    10   103   1                0                 0\n14  전남   438     59    362     5   184   0                0                 0\n15  경북   495    183    431     7   120   0                0                 0\n16  경남   521    150    395     9   145   1                1                 0\n17  제주   118     18    102     3    92   0                4                 0",
      "text/html": "<div>\n<style scoped>\n    .dataframe tbody tr th:only-of-type {\n        vertical-align: middle;\n    }\n\n    .dataframe tbody tr th {\n        vertical-align: top;\n    }\n\n    .dataframe thead th {\n        text-align: right;\n    }\n</style>\n<table border=\"1\" class=\"dataframe\">\n  <thead>\n    <tr style=\"text-align: right;\">\n      <th></th>\n      <th>구분</th>\n      <th>초등학교</th>\n      <th>일반유치원</th>\n      <th>병설유치원</th>\n      <th>특수학교</th>\n      <th>어린이집</th>\n      <th>학원</th>\n      <th>외국인학교_대안학교_국제학교</th>\n      <th>조례로 정하는 시설 또는 장소</th>\n    </tr>\n  </thead>\n  <tbody>\n    <tr>\n      <th>13</th>\n      <td>전북</td>\n      <td>419</td>\n      <td>102</td>\n      <td>349</td>\n      <td>10</td>\n      <td>103</td>\n      <td>1</td>\n      <td>0</td>\n      <td>0</td>\n    </tr>\n    <tr>\n      <th>14</th>\n      <td>전남</td>\n      <td>438</td>\n      <td>59</td>\n      <td>362</td>\n      <td>5</td>\n      <td>184</td>\n      <td>0</td>\n      <td>0</td>\n      <td>0</td>\n    </tr>\n    <tr>\n      <th>15</th>\n      <td>경북</td>\n      <td>495</td>\n      <td>183</td>\n      <td>431</td>\n      <td>7</td>\n      <td>120</td>\n      <td>0</td>\n      <td>0</td>\n      <td>0</td>\n    </tr>\n    <tr>\n      <th>16</th>\n      <td>경남</td>\n      <td>521</td>\n      <td>150</td>\n      <td>395</td>\n      <td>9</td>\n      <td>145</td>\n      <td>1</td>\n      <td>1</td>\n      <td>0</td>\n    </tr>\n    <tr>\n      <th>17</th>\n      <td>제주</td>\n      <td>118</td>\n      <td>18</td>\n      <td>102</td>\n      <td>3</td>\n      <td>92</td>\n      <td>0</td>\n      <td>4</td>\n      <td>0</td>\n    </tr>\n  </tbody>\n</table>\n</div>"
     },
     "execution_count": 5,
     "metadata": {},
     "output_type": "execute_result"
    }
   ],
   "source": [
    "df_child_protection.tail()"
   ],
   "metadata": {
    "collapsed": false,
    "ExecuteTime": {
     "end_time": "2024-05-12T10:09:36.545868Z",
     "start_time": "2024-05-12T10:09:36.540773Z"
    }
   },
   "id": "488317c1f0cf4189",
   "execution_count": 5
  },
  {
   "cell_type": "code",
   "outputs": [
    {
     "data": {
      "text/plain": "      구분  초등학교  일반유치원  병설유치원  특수학교  어린이집  학원  외국인학교_대안학교_국제학교  \\\n0     서울   606    367    141    27   488  59               12   \n1     부산   306    283     91    15   146   2                3   \n2     대구   242    185    139    10   173   1                0   \n3     인천   270    173      0     9   202  13                0   \n4     광주   157    106      0     7   150   0                1   \n5     대전   154     86     83     6   127   1                1   \n6     울산   122     90     64     3    45   2                0   \n7     세종    53     13     50     2    10   0                0   \n8   경기남부   976    443    837    21   488   9                4   \n9   경기북부   376    140    329    10   191   5                1   \n10    강원   359     68    238     8    82   0                0   \n11    충북   265     57    229    12   158   0                0   \n12    충남   418    119    348    12   161   0                0   \n13    전북   419    102    349    10   103   1                0   \n14    전남   438     59    362     5   184   0                0   \n15    경북   495    183    431     7   120   0                0   \n16    경남   521    150    395     9   145   1                1   \n17    제주   118     18    102     3    92   0                4   \n\n    조례로 정하는 시설 또는 장소  \n0                  0  \n1                  0  \n2                  0  \n3                  2  \n4                  0  \n5                  0  \n6                  0  \n7                  0  \n8                  0  \n9                  0  \n10                 1  \n11                 0  \n12                 0  \n13                 0  \n14                 0  \n15                 0  \n16                 0  \n17                 0  ",
      "text/html": "<div>\n<style scoped>\n    .dataframe tbody tr th:only-of-type {\n        vertical-align: middle;\n    }\n\n    .dataframe tbody tr th {\n        vertical-align: top;\n    }\n\n    .dataframe thead th {\n        text-align: right;\n    }\n</style>\n<table border=\"1\" class=\"dataframe\">\n  <thead>\n    <tr style=\"text-align: right;\">\n      <th></th>\n      <th>구분</th>\n      <th>초등학교</th>\n      <th>일반유치원</th>\n      <th>병설유치원</th>\n      <th>특수학교</th>\n      <th>어린이집</th>\n      <th>학원</th>\n      <th>외국인학교_대안학교_국제학교</th>\n      <th>조례로 정하는 시설 또는 장소</th>\n    </tr>\n  </thead>\n  <tbody>\n    <tr>\n      <th>0</th>\n      <td>서울</td>\n      <td>606</td>\n      <td>367</td>\n      <td>141</td>\n      <td>27</td>\n      <td>488</td>\n      <td>59</td>\n      <td>12</td>\n      <td>0</td>\n    </tr>\n    <tr>\n      <th>1</th>\n      <td>부산</td>\n      <td>306</td>\n      <td>283</td>\n      <td>91</td>\n      <td>15</td>\n      <td>146</td>\n      <td>2</td>\n      <td>3</td>\n      <td>0</td>\n    </tr>\n    <tr>\n      <th>2</th>\n      <td>대구</td>\n      <td>242</td>\n      <td>185</td>\n      <td>139</td>\n      <td>10</td>\n      <td>173</td>\n      <td>1</td>\n      <td>0</td>\n      <td>0</td>\n    </tr>\n    <tr>\n      <th>3</th>\n      <td>인천</td>\n      <td>270</td>\n      <td>173</td>\n      <td>0</td>\n      <td>9</td>\n      <td>202</td>\n      <td>13</td>\n      <td>0</td>\n      <td>2</td>\n    </tr>\n    <tr>\n      <th>4</th>\n      <td>광주</td>\n      <td>157</td>\n      <td>106</td>\n      <td>0</td>\n      <td>7</td>\n      <td>150</td>\n      <td>0</td>\n      <td>1</td>\n      <td>0</td>\n    </tr>\n    <tr>\n      <th>5</th>\n      <td>대전</td>\n      <td>154</td>\n      <td>86</td>\n      <td>83</td>\n      <td>6</td>\n      <td>127</td>\n      <td>1</td>\n      <td>1</td>\n      <td>0</td>\n    </tr>\n    <tr>\n      <th>6</th>\n      <td>울산</td>\n      <td>122</td>\n      <td>90</td>\n      <td>64</td>\n      <td>3</td>\n      <td>45</td>\n      <td>2</td>\n      <td>0</td>\n      <td>0</td>\n    </tr>\n    <tr>\n      <th>7</th>\n      <td>세종</td>\n      <td>53</td>\n      <td>13</td>\n      <td>50</td>\n      <td>2</td>\n      <td>10</td>\n      <td>0</td>\n      <td>0</td>\n      <td>0</td>\n    </tr>\n    <tr>\n      <th>8</th>\n      <td>경기남부</td>\n      <td>976</td>\n      <td>443</td>\n      <td>837</td>\n      <td>21</td>\n      <td>488</td>\n      <td>9</td>\n      <td>4</td>\n      <td>0</td>\n    </tr>\n    <tr>\n      <th>9</th>\n      <td>경기북부</td>\n      <td>376</td>\n      <td>140</td>\n      <td>329</td>\n      <td>10</td>\n      <td>191</td>\n      <td>5</td>\n      <td>1</td>\n      <td>0</td>\n    </tr>\n    <tr>\n      <th>10</th>\n      <td>강원</td>\n      <td>359</td>\n      <td>68</td>\n      <td>238</td>\n      <td>8</td>\n      <td>82</td>\n      <td>0</td>\n      <td>0</td>\n      <td>1</td>\n    </tr>\n    <tr>\n      <th>11</th>\n      <td>충북</td>\n      <td>265</td>\n      <td>57</td>\n      <td>229</td>\n      <td>12</td>\n      <td>158</td>\n      <td>0</td>\n      <td>0</td>\n      <td>0</td>\n    </tr>\n    <tr>\n      <th>12</th>\n      <td>충남</td>\n      <td>418</td>\n      <td>119</td>\n      <td>348</td>\n      <td>12</td>\n      <td>161</td>\n      <td>0</td>\n      <td>0</td>\n      <td>0</td>\n    </tr>\n    <tr>\n      <th>13</th>\n      <td>전북</td>\n      <td>419</td>\n      <td>102</td>\n      <td>349</td>\n      <td>10</td>\n      <td>103</td>\n      <td>1</td>\n      <td>0</td>\n      <td>0</td>\n    </tr>\n    <tr>\n      <th>14</th>\n      <td>전남</td>\n      <td>438</td>\n      <td>59</td>\n      <td>362</td>\n      <td>5</td>\n      <td>184</td>\n      <td>0</td>\n      <td>0</td>\n      <td>0</td>\n    </tr>\n    <tr>\n      <th>15</th>\n      <td>경북</td>\n      <td>495</td>\n      <td>183</td>\n      <td>431</td>\n      <td>7</td>\n      <td>120</td>\n      <td>0</td>\n      <td>0</td>\n      <td>0</td>\n    </tr>\n    <tr>\n      <th>16</th>\n      <td>경남</td>\n      <td>521</td>\n      <td>150</td>\n      <td>395</td>\n      <td>9</td>\n      <td>145</td>\n      <td>1</td>\n      <td>1</td>\n      <td>0</td>\n    </tr>\n    <tr>\n      <th>17</th>\n      <td>제주</td>\n      <td>118</td>\n      <td>18</td>\n      <td>102</td>\n      <td>3</td>\n      <td>92</td>\n      <td>0</td>\n      <td>4</td>\n      <td>0</td>\n    </tr>\n  </tbody>\n</table>\n</div>"
     },
     "execution_count": 6,
     "metadata": {},
     "output_type": "execute_result"
    }
   ],
   "source": [
    "df_child_protection"
   ],
   "metadata": {
    "collapsed": false,
    "ExecuteTime": {
     "end_time": "2024-05-12T10:09:36.551246Z",
     "start_time": "2024-05-12T10:09:36.546700Z"
    }
   },
   "id": "cd5c63e63ab5bec5",
   "execution_count": 6
  },
  {
   "cell_type": "code",
   "outputs": [
    {
     "data": {
      "text/plain": "             학교ID          학교명 학교급구분        설립일자 설립형태 본교분교구분 운영상태  \\\n0      B000004806  미원초등학교장락분교장  초등학교  1944-04-06   공립     분교   운영   \n1      B000005055       모곡초등학교  초등학교  1934-12-15   공립     본교   운영   \n2      B000007420     울진남부초등학교  초등학교  1968-10-22   공립     본교   운영   \n3      B000022879     목포부주초등학교  초등학교  2016-03-01   공립     본교   운영   \n4      B000006241       용동초등학교  초등학교  1950-04-20   공립     본교   운영   \n...           ...          ...   ...         ...  ...    ...  ...   \n11987  B000013206       금오고등학교  고등학교  2001-03-01   공립     본교   운영   \n11988  B000012954  한국K-POP고등학교  고등학교  1962-12-31   사립     본교   운영   \n11989  B000002000     서울대동초등학교  초등학교  1980-10-02   공립     본교   운영   \n11990  B000008572        덕천중학교   중학교  1981-09-16   공립     본교   운영   \n11991  B000025610        일광중학교   중학교  2021-03-01   공립     본교   운영   \n\n                        소재지지번주소                  소재지도로명주소  시도교육청코드  \\\n0         경기도 가평군 설악면 미사리 290-3      경기도 가평군 설악면 미사리로 588  7530000   \n1      강원특별자치도 홍천군 서면 모곡리 184-2     강원특별자치도 홍천군 서면 설밀길 76  7801000   \n2          경상북도 울진군 울진읍 읍내리 290   경상북도 울진군 울진읍 울진중앙로 52-5  8750000   \n3             전라남도 목포시 옥암동 1317      전라남도 목포시 남악2로22번길 37  8490000   \n4       전북특별자치도 김제시 용지면 장신리 280    전북특별자치도 김제시 용지면 용덕길 36  8321000   \n...                         ...                       ...      ...   \n11987        경상북도 구미시 광평동 299-3       경상북도 구미시 박정희로25길 15  8750000   \n11988      충청남도 홍성군 광천읍 신진리 367  충청남도 홍성군 광천읍 광천로373번길 14  8140000   \n11989        서울특별시 영등포구 대림동 702       서울특별시 영등포구 대림로21길 6  7010000   \n11990        부산광역시 북구 덕천동 320-1      부산광역시 북구 만덕대로65번길 50  7150000   \n11991     부산광역시 기장군 일광면 삼성리 749     부산광역시 기장군 일광면 해빛3로 99  7150000   \n\n           시도교육청명  교육지원청코드          교육지원청명        생성일자        변경일자         위도  \\\n0          경기도교육청  7721000      경기도가평교육지원청  2013-11-29  2023-11-15  37.703889   \n1      강원특별자치도교육청  7882000  강원특별자치도홍천교육지원청  2013-11-29  2023-11-15  37.676874   \n2         경상북도교육청  8971000     경상북도울진교육지원청  2013-11-29  2023-11-15  36.987340   \n3         전라남도교육청  8501000     전라남도목포교육지원청  2013-11-29  2023-11-15  34.808753   \n4      전북특별자치도교육청  8382000  전북특별자치도김제교육지원청  2013-11-29  2023-11-15  35.854580   \n...           ...      ...             ...         ...         ...        ...   \n11987     경상북도교육청  8801000     경상북도구미교육지원청  2013-11-29  2023-11-15  36.108950   \n11988     충청남도교육청  8261000     충청남도홍성교육지원청  2013-11-29  2023-11-15  36.507932   \n11989    서울특별시교육청  7041000    서울특별시남부교육지원청  2013-11-29  2023-11-15  37.493705   \n11990    부산광역시교육청  7201000    부산광역시북부교육지원청  2013-11-29  2023-11-15  35.214234   \n11991    부산광역시교육청  7211000   부산광역시해운대교육지원청  2013-11-29  2023-11-15  35.265227   \n\n               경도     데이터기준일자   제공기관코드            제공기관명  \n0      127.540156  2024-03-22  C738100  청주대학교 지방교육재정연구원  \n1      127.600664  2024-03-22  C738100  청주대학교 지방교육재정연구원  \n2      129.399471  2024-03-22  C738100  청주대학교 지방교육재정연구원  \n3      126.456974  2024-03-22  C738100  청주대학교 지방교육재정연구원  \n4      127.003365  2024-03-22  C738100  청주대학교 지방교육재정연구원  \n...           ...         ...      ...              ...  \n11987  128.355632  2024-03-22  C738100  청주대학교 지방교육재정연구원  \n11988  126.621914  2024-03-22  C738100  청주대학교 지방교육재정연구원  \n11989  126.900119  2024-03-22  C738100  청주대학교 지방교육재정연구원  \n11990  129.011813  2024-03-22  C738100  청주대학교 지방교육재정연구원  \n11991  129.220461  2024-03-22  C738100  청주대학교 지방교육재정연구원  \n\n[11992 rows x 20 columns]",
      "text/html": "<div>\n<style scoped>\n    .dataframe tbody tr th:only-of-type {\n        vertical-align: middle;\n    }\n\n    .dataframe tbody tr th {\n        vertical-align: top;\n    }\n\n    .dataframe thead th {\n        text-align: right;\n    }\n</style>\n<table border=\"1\" class=\"dataframe\">\n  <thead>\n    <tr style=\"text-align: right;\">\n      <th></th>\n      <th>학교ID</th>\n      <th>학교명</th>\n      <th>학교급구분</th>\n      <th>설립일자</th>\n      <th>설립형태</th>\n      <th>본교분교구분</th>\n      <th>운영상태</th>\n      <th>소재지지번주소</th>\n      <th>소재지도로명주소</th>\n      <th>시도교육청코드</th>\n      <th>시도교육청명</th>\n      <th>교육지원청코드</th>\n      <th>교육지원청명</th>\n      <th>생성일자</th>\n      <th>변경일자</th>\n      <th>위도</th>\n      <th>경도</th>\n      <th>데이터기준일자</th>\n      <th>제공기관코드</th>\n      <th>제공기관명</th>\n    </tr>\n  </thead>\n  <tbody>\n    <tr>\n      <th>0</th>\n      <td>B000004806</td>\n      <td>미원초등학교장락분교장</td>\n      <td>초등학교</td>\n      <td>1944-04-06</td>\n      <td>공립</td>\n      <td>분교</td>\n      <td>운영</td>\n      <td>경기도 가평군 설악면 미사리 290-3</td>\n      <td>경기도 가평군 설악면 미사리로 588</td>\n      <td>7530000</td>\n      <td>경기도교육청</td>\n      <td>7721000</td>\n      <td>경기도가평교육지원청</td>\n      <td>2013-11-29</td>\n      <td>2023-11-15</td>\n      <td>37.703889</td>\n      <td>127.540156</td>\n      <td>2024-03-22</td>\n      <td>C738100</td>\n      <td>청주대학교 지방교육재정연구원</td>\n    </tr>\n    <tr>\n      <th>1</th>\n      <td>B000005055</td>\n      <td>모곡초등학교</td>\n      <td>초등학교</td>\n      <td>1934-12-15</td>\n      <td>공립</td>\n      <td>본교</td>\n      <td>운영</td>\n      <td>강원특별자치도 홍천군 서면 모곡리 184-2</td>\n      <td>강원특별자치도 홍천군 서면 설밀길 76</td>\n      <td>7801000</td>\n      <td>강원특별자치도교육청</td>\n      <td>7882000</td>\n      <td>강원특별자치도홍천교육지원청</td>\n      <td>2013-11-29</td>\n      <td>2023-11-15</td>\n      <td>37.676874</td>\n      <td>127.600664</td>\n      <td>2024-03-22</td>\n      <td>C738100</td>\n      <td>청주대학교 지방교육재정연구원</td>\n    </tr>\n    <tr>\n      <th>2</th>\n      <td>B000007420</td>\n      <td>울진남부초등학교</td>\n      <td>초등학교</td>\n      <td>1968-10-22</td>\n      <td>공립</td>\n      <td>본교</td>\n      <td>운영</td>\n      <td>경상북도 울진군 울진읍 읍내리 290</td>\n      <td>경상북도 울진군 울진읍 울진중앙로 52-5</td>\n      <td>8750000</td>\n      <td>경상북도교육청</td>\n      <td>8971000</td>\n      <td>경상북도울진교육지원청</td>\n      <td>2013-11-29</td>\n      <td>2023-11-15</td>\n      <td>36.987340</td>\n      <td>129.399471</td>\n      <td>2024-03-22</td>\n      <td>C738100</td>\n      <td>청주대학교 지방교육재정연구원</td>\n    </tr>\n    <tr>\n      <th>3</th>\n      <td>B000022879</td>\n      <td>목포부주초등학교</td>\n      <td>초등학교</td>\n      <td>2016-03-01</td>\n      <td>공립</td>\n      <td>본교</td>\n      <td>운영</td>\n      <td>전라남도 목포시 옥암동 1317</td>\n      <td>전라남도 목포시 남악2로22번길 37</td>\n      <td>8490000</td>\n      <td>전라남도교육청</td>\n      <td>8501000</td>\n      <td>전라남도목포교육지원청</td>\n      <td>2013-11-29</td>\n      <td>2023-11-15</td>\n      <td>34.808753</td>\n      <td>126.456974</td>\n      <td>2024-03-22</td>\n      <td>C738100</td>\n      <td>청주대학교 지방교육재정연구원</td>\n    </tr>\n    <tr>\n      <th>4</th>\n      <td>B000006241</td>\n      <td>용동초등학교</td>\n      <td>초등학교</td>\n      <td>1950-04-20</td>\n      <td>공립</td>\n      <td>본교</td>\n      <td>운영</td>\n      <td>전북특별자치도 김제시 용지면 장신리 280</td>\n      <td>전북특별자치도 김제시 용지면 용덕길 36</td>\n      <td>8321000</td>\n      <td>전북특별자치도교육청</td>\n      <td>8382000</td>\n      <td>전북특별자치도김제교육지원청</td>\n      <td>2013-11-29</td>\n      <td>2023-11-15</td>\n      <td>35.854580</td>\n      <td>127.003365</td>\n      <td>2024-03-22</td>\n      <td>C738100</td>\n      <td>청주대학교 지방교육재정연구원</td>\n    </tr>\n    <tr>\n      <th>...</th>\n      <td>...</td>\n      <td>...</td>\n      <td>...</td>\n      <td>...</td>\n      <td>...</td>\n      <td>...</td>\n      <td>...</td>\n      <td>...</td>\n      <td>...</td>\n      <td>...</td>\n      <td>...</td>\n      <td>...</td>\n      <td>...</td>\n      <td>...</td>\n      <td>...</td>\n      <td>...</td>\n      <td>...</td>\n      <td>...</td>\n      <td>...</td>\n      <td>...</td>\n    </tr>\n    <tr>\n      <th>11987</th>\n      <td>B000013206</td>\n      <td>금오고등학교</td>\n      <td>고등학교</td>\n      <td>2001-03-01</td>\n      <td>공립</td>\n      <td>본교</td>\n      <td>운영</td>\n      <td>경상북도 구미시 광평동 299-3</td>\n      <td>경상북도 구미시 박정희로25길 15</td>\n      <td>8750000</td>\n      <td>경상북도교육청</td>\n      <td>8801000</td>\n      <td>경상북도구미교육지원청</td>\n      <td>2013-11-29</td>\n      <td>2023-11-15</td>\n      <td>36.108950</td>\n      <td>128.355632</td>\n      <td>2024-03-22</td>\n      <td>C738100</td>\n      <td>청주대학교 지방교육재정연구원</td>\n    </tr>\n    <tr>\n      <th>11988</th>\n      <td>B000012954</td>\n      <td>한국K-POP고등학교</td>\n      <td>고등학교</td>\n      <td>1962-12-31</td>\n      <td>사립</td>\n      <td>본교</td>\n      <td>운영</td>\n      <td>충청남도 홍성군 광천읍 신진리 367</td>\n      <td>충청남도 홍성군 광천읍 광천로373번길 14</td>\n      <td>8140000</td>\n      <td>충청남도교육청</td>\n      <td>8261000</td>\n      <td>충청남도홍성교육지원청</td>\n      <td>2013-11-29</td>\n      <td>2023-11-15</td>\n      <td>36.507932</td>\n      <td>126.621914</td>\n      <td>2024-03-22</td>\n      <td>C738100</td>\n      <td>청주대학교 지방교육재정연구원</td>\n    </tr>\n    <tr>\n      <th>11989</th>\n      <td>B000002000</td>\n      <td>서울대동초등학교</td>\n      <td>초등학교</td>\n      <td>1980-10-02</td>\n      <td>공립</td>\n      <td>본교</td>\n      <td>운영</td>\n      <td>서울특별시 영등포구 대림동 702</td>\n      <td>서울특별시 영등포구 대림로21길 6</td>\n      <td>7010000</td>\n      <td>서울특별시교육청</td>\n      <td>7041000</td>\n      <td>서울특별시남부교육지원청</td>\n      <td>2013-11-29</td>\n      <td>2023-11-15</td>\n      <td>37.493705</td>\n      <td>126.900119</td>\n      <td>2024-03-22</td>\n      <td>C738100</td>\n      <td>청주대학교 지방교육재정연구원</td>\n    </tr>\n    <tr>\n      <th>11990</th>\n      <td>B000008572</td>\n      <td>덕천중학교</td>\n      <td>중학교</td>\n      <td>1981-09-16</td>\n      <td>공립</td>\n      <td>본교</td>\n      <td>운영</td>\n      <td>부산광역시 북구 덕천동 320-1</td>\n      <td>부산광역시 북구 만덕대로65번길 50</td>\n      <td>7150000</td>\n      <td>부산광역시교육청</td>\n      <td>7201000</td>\n      <td>부산광역시북부교육지원청</td>\n      <td>2013-11-29</td>\n      <td>2023-11-15</td>\n      <td>35.214234</td>\n      <td>129.011813</td>\n      <td>2024-03-22</td>\n      <td>C738100</td>\n      <td>청주대학교 지방교육재정연구원</td>\n    </tr>\n    <tr>\n      <th>11991</th>\n      <td>B000025610</td>\n      <td>일광중학교</td>\n      <td>중학교</td>\n      <td>2021-03-01</td>\n      <td>공립</td>\n      <td>본교</td>\n      <td>운영</td>\n      <td>부산광역시 기장군 일광면 삼성리 749</td>\n      <td>부산광역시 기장군 일광면 해빛3로 99</td>\n      <td>7150000</td>\n      <td>부산광역시교육청</td>\n      <td>7211000</td>\n      <td>부산광역시해운대교육지원청</td>\n      <td>2013-11-29</td>\n      <td>2023-11-15</td>\n      <td>35.265227</td>\n      <td>129.220461</td>\n      <td>2024-03-22</td>\n      <td>C738100</td>\n      <td>청주대학교 지방교육재정연구원</td>\n    </tr>\n  </tbody>\n</table>\n<p>11992 rows × 20 columns</p>\n</div>"
     },
     "execution_count": 7,
     "metadata": {},
     "output_type": "execute_result"
    }
   ],
   "source": [
    "df_school_location"
   ],
   "metadata": {
    "collapsed": false,
    "ExecuteTime": {
     "end_time": "2024-05-12T10:09:36.567419Z",
     "start_time": "2024-05-12T10:09:36.554853Z"
    }
   },
   "id": "d1c68fdcfbad2d16",
   "execution_count": 7
  },
  {
   "cell_type": "code",
   "outputs": [],
   "source": [
    "df_seoul_school = df_school_location[df_school_location['시도교육청명'] == '서울특별시교육청'] #서울특별시에 있는 초중등학교 가져오기\n",
    "df_seoul_child_protection_zone = df_child_protection[df_child_protection['구분'] == '서울']"
   ],
   "metadata": {
    "collapsed": false,
    "ExecuteTime": {
     "end_time": "2024-05-12T10:09:36.579295Z",
     "start_time": "2024-05-12T10:09:36.559009Z"
    }
   },
   "id": "f29cdd0a56e08ed4",
   "execution_count": 8
  },
  {
   "cell_type": "code",
   "outputs": [
    {
     "data": {
      "text/plain": "(1309, 20)"
     },
     "execution_count": 9,
     "metadata": {},
     "output_type": "execute_result"
    }
   ],
   "source": [
    "df_seoul_school.shape"
   ],
   "metadata": {
    "collapsed": false,
    "ExecuteTime": {
     "end_time": "2024-05-12T10:09:36.610168Z",
     "start_time": "2024-05-12T10:09:36.563310Z"
    }
   },
   "id": "77816365a49c0cf",
   "execution_count": 9
  },
  {
   "cell_type": "code",
   "outputs": [
    {
     "data": {
      "text/plain": "   구분  초등학교  일반유치원  병설유치원  특수학교  어린이집  학원  외국인학교_대안학교_국제학교  조례로 정하는 시설 또는 장소\n0  서울   606    367    141    27   488  59               12                 0",
      "text/html": "<div>\n<style scoped>\n    .dataframe tbody tr th:only-of-type {\n        vertical-align: middle;\n    }\n\n    .dataframe tbody tr th {\n        vertical-align: top;\n    }\n\n    .dataframe thead th {\n        text-align: right;\n    }\n</style>\n<table border=\"1\" class=\"dataframe\">\n  <thead>\n    <tr style=\"text-align: right;\">\n      <th></th>\n      <th>구분</th>\n      <th>초등학교</th>\n      <th>일반유치원</th>\n      <th>병설유치원</th>\n      <th>특수학교</th>\n      <th>어린이집</th>\n      <th>학원</th>\n      <th>외국인학교_대안학교_국제학교</th>\n      <th>조례로 정하는 시설 또는 장소</th>\n    </tr>\n  </thead>\n  <tbody>\n    <tr>\n      <th>0</th>\n      <td>서울</td>\n      <td>606</td>\n      <td>367</td>\n      <td>141</td>\n      <td>27</td>\n      <td>488</td>\n      <td>59</td>\n      <td>12</td>\n      <td>0</td>\n    </tr>\n  </tbody>\n</table>\n</div>"
     },
     "execution_count": 10,
     "metadata": {},
     "output_type": "execute_result"
    }
   ],
   "source": [
    "df_seoul_child_protection_zone"
   ],
   "metadata": {
    "collapsed": false,
    "ExecuteTime": {
     "end_time": "2024-05-12T10:09:36.611691Z",
     "start_time": "2024-05-12T10:09:36.568791Z"
    }
   },
   "id": "fef35e62c9f00242",
   "execution_count": 10
  },
  {
   "cell_type": "code",
   "outputs": [
    {
     "data": {
      "text/plain": "      구분    합계\n0     서울  1700\n1     부산   846\n2     대구   750\n3     인천   669\n4     광주   421\n5     대전   458\n6     울산   326\n7     세종   128\n8   경기남부  2778\n9   경기북부  1052\n10    강원   756\n11    충북   721\n12    충남  1058\n13    전북   984\n14    전남  1048\n15    경북  1236\n16    경남  1222\n17    제주   337",
      "text/html": "<div>\n<style scoped>\n    .dataframe tbody tr th:only-of-type {\n        vertical-align: middle;\n    }\n\n    .dataframe tbody tr th {\n        vertical-align: top;\n    }\n\n    .dataframe thead th {\n        text-align: right;\n    }\n</style>\n<table border=\"1\" class=\"dataframe\">\n  <thead>\n    <tr style=\"text-align: right;\">\n      <th></th>\n      <th>구분</th>\n      <th>합계</th>\n    </tr>\n  </thead>\n  <tbody>\n    <tr>\n      <th>0</th>\n      <td>서울</td>\n      <td>1700</td>\n    </tr>\n    <tr>\n      <th>1</th>\n      <td>부산</td>\n      <td>846</td>\n    </tr>\n    <tr>\n      <th>2</th>\n      <td>대구</td>\n      <td>750</td>\n    </tr>\n    <tr>\n      <th>3</th>\n      <td>인천</td>\n      <td>669</td>\n    </tr>\n    <tr>\n      <th>4</th>\n      <td>광주</td>\n      <td>421</td>\n    </tr>\n    <tr>\n      <th>5</th>\n      <td>대전</td>\n      <td>458</td>\n    </tr>\n    <tr>\n      <th>6</th>\n      <td>울산</td>\n      <td>326</td>\n    </tr>\n    <tr>\n      <th>7</th>\n      <td>세종</td>\n      <td>128</td>\n    </tr>\n    <tr>\n      <th>8</th>\n      <td>경기남부</td>\n      <td>2778</td>\n    </tr>\n    <tr>\n      <th>9</th>\n      <td>경기북부</td>\n      <td>1052</td>\n    </tr>\n    <tr>\n      <th>10</th>\n      <td>강원</td>\n      <td>756</td>\n    </tr>\n    <tr>\n      <th>11</th>\n      <td>충북</td>\n      <td>721</td>\n    </tr>\n    <tr>\n      <th>12</th>\n      <td>충남</td>\n      <td>1058</td>\n    </tr>\n    <tr>\n      <th>13</th>\n      <td>전북</td>\n      <td>984</td>\n    </tr>\n    <tr>\n      <th>14</th>\n      <td>전남</td>\n      <td>1048</td>\n    </tr>\n    <tr>\n      <th>15</th>\n      <td>경북</td>\n      <td>1236</td>\n    </tr>\n    <tr>\n      <th>16</th>\n      <td>경남</td>\n      <td>1222</td>\n    </tr>\n    <tr>\n      <th>17</th>\n      <td>제주</td>\n      <td>337</td>\n    </tr>\n  </tbody>\n</table>\n</div>"
     },
     "execution_count": 18,
     "metadata": {},
     "output_type": "execute_result"
    }
   ],
   "source": [
    "# '구분' 열을 제외하고 나머지 열을 모두 더함\n",
    "df_child_protection['합계'] = df_child_protection.iloc[:, 1:].sum(axis=1)\n",
    "\n",
    "# 결과 확인을 위해 '구분' 열과 새로운 '합계' 열만 보여주기\n",
    "total_summary = df_child_protection[['구분', '합계']]\n",
    "total_summary"
   ],
   "metadata": {
    "collapsed": false,
    "ExecuteTime": {
     "end_time": "2024-05-12T10:10:08.405205Z",
     "start_time": "2024-05-12T10:10:08.395781Z"
    }
   },
   "id": "8f2e001abc1f2203",
   "execution_count": 18
  },
  {
   "cell_type": "code",
   "outputs": [
    {
     "data": {
      "text/plain": "(761, 20)"
     },
     "execution_count": 20,
     "metadata": {},
     "output_type": "execute_result"
    }
   ],
   "source": [
    "df_jeonBuk_school = df_school_location[df_school_location['시도교육청명'] == '전북특별자치도교육청'] #전라북도 있는 초중등학교 가져오기\n",
    "df_jeonBuk_child_protection_zone = df_child_protection[df_child_protection['구분'] == '전북']\n",
    "df_jeonBuk_school.shape"
   ],
   "metadata": {
    "collapsed": false,
    "ExecuteTime": {
     "end_time": "2024-05-12T10:21:18.716224Z",
     "start_time": "2024-05-12T10:21:18.706855Z"
    }
   },
   "id": "88a0ae1509086d4b",
   "execution_count": 20
  },
  {
   "cell_type": "code",
   "outputs": [
    {
     "data": {
      "text/plain": "          학교ID     학교명 학교급구분        설립일자 설립형태 본교분교구분 운영상태  \\\n4   B000006241  용동초등학교  초등학교  1950-04-20   공립     본교   운영   \n6   B000026957   삼례중학교   중학교  1948-09-01   공립     본교   운영   \n17  B000006216  벽량초등학교  초등학교  1936-06-29   공립     본교   운영   \n27  B000006067  개정초등학교  초등학교  1924-09-01   공립     본교   운영   \n36  B000010346   상관중학교   중학교  1969-10-04   공립     본교   운영   \n\n                       소재지지번주소                   소재지도로명주소  시도교육청코드  \\\n4      전북특별자치도 김제시 용지면 장신리 280     전북특별자치도 김제시 용지면 용덕길 36  8321000   \n6   전북특별자치도 완주군 삼례읍 삼례리 1691-7  전북특별자치도 완주군 삼례읍 신금로 53-23  8321000   \n17      전북특별자치도 김제시 부량면 대평리 66    전북특별자치도 김제시 부량면 대평2길 99  8321000   \n27   전북특별자치도 군산시 개정면 아동리 779-1     전북특별자치도 군산시 개정면 동정1길 5  8321000   \n36    전북특별자치도 완주군 상관면 신리 603-5    전북특별자치도 완주군 상관면 신리로 111  8321000   \n\n        시도교육청명  교육지원청코드          교육지원청명        생성일자        변경일자         위도  \\\n4   전북특별자치도교육청  8382000  전북특별자치도김제교육지원청  2013-11-29  2023-11-15  35.854580   \n6   전북특별자치도교육청  8392000  전북특별자치도완주교육지원청  2013-11-29  2023-11-15  35.911068   \n17  전북특별자치도교육청  8382000  전북특별자치도김제교육지원청  2013-11-29  2023-11-15  35.730141   \n27  전북특별자치도교육청  8342000  전북특별자치도군산교육지원청  2013-11-29  2023-11-15  35.963170   \n36  전북특별자치도교육청  8392000  전북특별자치도완주교육지원청  2013-11-29  2023-11-15  35.771038   \n\n            경도     데이터기준일자   제공기관코드            제공기관명  \n4   127.003365  2024-03-22  C738100  청주대학교 지방교육재정연구원  \n6   127.078716  2024-03-22  C738100  청주대학교 지방교육재정연구원  \n17  126.848183  2024-03-22  C738100  청주대학교 지방교육재정연구원  \n27  126.769074  2024-03-22  C738100  청주대학교 지방교육재정연구원  \n36  127.206738  2024-03-22  C738100  청주대학교 지방교육재정연구원  ",
      "text/html": "<div>\n<style scoped>\n    .dataframe tbody tr th:only-of-type {\n        vertical-align: middle;\n    }\n\n    .dataframe tbody tr th {\n        vertical-align: top;\n    }\n\n    .dataframe thead th {\n        text-align: right;\n    }\n</style>\n<table border=\"1\" class=\"dataframe\">\n  <thead>\n    <tr style=\"text-align: right;\">\n      <th></th>\n      <th>학교ID</th>\n      <th>학교명</th>\n      <th>학교급구분</th>\n      <th>설립일자</th>\n      <th>설립형태</th>\n      <th>본교분교구분</th>\n      <th>운영상태</th>\n      <th>소재지지번주소</th>\n      <th>소재지도로명주소</th>\n      <th>시도교육청코드</th>\n      <th>시도교육청명</th>\n      <th>교육지원청코드</th>\n      <th>교육지원청명</th>\n      <th>생성일자</th>\n      <th>변경일자</th>\n      <th>위도</th>\n      <th>경도</th>\n      <th>데이터기준일자</th>\n      <th>제공기관코드</th>\n      <th>제공기관명</th>\n    </tr>\n  </thead>\n  <tbody>\n    <tr>\n      <th>4</th>\n      <td>B000006241</td>\n      <td>용동초등학교</td>\n      <td>초등학교</td>\n      <td>1950-04-20</td>\n      <td>공립</td>\n      <td>본교</td>\n      <td>운영</td>\n      <td>전북특별자치도 김제시 용지면 장신리 280</td>\n      <td>전북특별자치도 김제시 용지면 용덕길 36</td>\n      <td>8321000</td>\n      <td>전북특별자치도교육청</td>\n      <td>8382000</td>\n      <td>전북특별자치도김제교육지원청</td>\n      <td>2013-11-29</td>\n      <td>2023-11-15</td>\n      <td>35.854580</td>\n      <td>127.003365</td>\n      <td>2024-03-22</td>\n      <td>C738100</td>\n      <td>청주대학교 지방교육재정연구원</td>\n    </tr>\n    <tr>\n      <th>6</th>\n      <td>B000026957</td>\n      <td>삼례중학교</td>\n      <td>중학교</td>\n      <td>1948-09-01</td>\n      <td>공립</td>\n      <td>본교</td>\n      <td>운영</td>\n      <td>전북특별자치도 완주군 삼례읍 삼례리 1691-7</td>\n      <td>전북특별자치도 완주군 삼례읍 신금로 53-23</td>\n      <td>8321000</td>\n      <td>전북특별자치도교육청</td>\n      <td>8392000</td>\n      <td>전북특별자치도완주교육지원청</td>\n      <td>2013-11-29</td>\n      <td>2023-11-15</td>\n      <td>35.911068</td>\n      <td>127.078716</td>\n      <td>2024-03-22</td>\n      <td>C738100</td>\n      <td>청주대학교 지방교육재정연구원</td>\n    </tr>\n    <tr>\n      <th>17</th>\n      <td>B000006216</td>\n      <td>벽량초등학교</td>\n      <td>초등학교</td>\n      <td>1936-06-29</td>\n      <td>공립</td>\n      <td>본교</td>\n      <td>운영</td>\n      <td>전북특별자치도 김제시 부량면 대평리 66</td>\n      <td>전북특별자치도 김제시 부량면 대평2길 99</td>\n      <td>8321000</td>\n      <td>전북특별자치도교육청</td>\n      <td>8382000</td>\n      <td>전북특별자치도김제교육지원청</td>\n      <td>2013-11-29</td>\n      <td>2023-11-15</td>\n      <td>35.730141</td>\n      <td>126.848183</td>\n      <td>2024-03-22</td>\n      <td>C738100</td>\n      <td>청주대학교 지방교육재정연구원</td>\n    </tr>\n    <tr>\n      <th>27</th>\n      <td>B000006067</td>\n      <td>개정초등학교</td>\n      <td>초등학교</td>\n      <td>1924-09-01</td>\n      <td>공립</td>\n      <td>본교</td>\n      <td>운영</td>\n      <td>전북특별자치도 군산시 개정면 아동리 779-1</td>\n      <td>전북특별자치도 군산시 개정면 동정1길 5</td>\n      <td>8321000</td>\n      <td>전북특별자치도교육청</td>\n      <td>8342000</td>\n      <td>전북특별자치도군산교육지원청</td>\n      <td>2013-11-29</td>\n      <td>2023-11-15</td>\n      <td>35.963170</td>\n      <td>126.769074</td>\n      <td>2024-03-22</td>\n      <td>C738100</td>\n      <td>청주대학교 지방교육재정연구원</td>\n    </tr>\n    <tr>\n      <th>36</th>\n      <td>B000010346</td>\n      <td>상관중학교</td>\n      <td>중학교</td>\n      <td>1969-10-04</td>\n      <td>공립</td>\n      <td>본교</td>\n      <td>운영</td>\n      <td>전북특별자치도 완주군 상관면 신리 603-5</td>\n      <td>전북특별자치도 완주군 상관면 신리로 111</td>\n      <td>8321000</td>\n      <td>전북특별자치도교육청</td>\n      <td>8392000</td>\n      <td>전북특별자치도완주교육지원청</td>\n      <td>2013-11-29</td>\n      <td>2023-11-15</td>\n      <td>35.771038</td>\n      <td>127.206738</td>\n      <td>2024-03-22</td>\n      <td>C738100</td>\n      <td>청주대학교 지방교육재정연구원</td>\n    </tr>\n  </tbody>\n</table>\n</div>"
     },
     "execution_count": 13,
     "metadata": {},
     "output_type": "execute_result"
    }
   ],
   "source": [
    "df_jeonBuk_school.head()"
   ],
   "metadata": {
    "collapsed": false,
    "ExecuteTime": {
     "end_time": "2024-05-12T10:09:36.679699Z",
     "start_time": "2024-05-12T10:09:36.584558Z"
    }
   },
   "id": "2bef76528a15805a",
   "execution_count": 13
  },
  {
   "cell_type": "code",
   "outputs": [
    {
     "data": {
      "text/plain": "    구분  초등학교  일반유치원  병설유치원  특수학교  어린이집  학원  외국인학교_대안학교_국제학교  조례로 정하는 시설 또는 장소\n13  전북   419    102    349    10   103   1                0                 0",
      "text/html": "<div>\n<style scoped>\n    .dataframe tbody tr th:only-of-type {\n        vertical-align: middle;\n    }\n\n    .dataframe tbody tr th {\n        vertical-align: top;\n    }\n\n    .dataframe thead th {\n        text-align: right;\n    }\n</style>\n<table border=\"1\" class=\"dataframe\">\n  <thead>\n    <tr style=\"text-align: right;\">\n      <th></th>\n      <th>구분</th>\n      <th>초등학교</th>\n      <th>일반유치원</th>\n      <th>병설유치원</th>\n      <th>특수학교</th>\n      <th>어린이집</th>\n      <th>학원</th>\n      <th>외국인학교_대안학교_국제학교</th>\n      <th>조례로 정하는 시설 또는 장소</th>\n    </tr>\n  </thead>\n  <tbody>\n    <tr>\n      <th>13</th>\n      <td>전북</td>\n      <td>419</td>\n      <td>102</td>\n      <td>349</td>\n      <td>10</td>\n      <td>103</td>\n      <td>1</td>\n      <td>0</td>\n      <td>0</td>\n    </tr>\n  </tbody>\n</table>\n</div>"
     },
     "execution_count": 14,
     "metadata": {},
     "output_type": "execute_result"
    }
   ],
   "source": [
    "df_jeonBuk_child_protection_zone.head()"
   ],
   "metadata": {
    "collapsed": false,
    "ExecuteTime": {
     "end_time": "2024-05-12T10:09:36.724328Z",
     "start_time": "2024-05-12T10:09:36.589444Z"
    }
   },
   "id": "dd37d3365bd866f1",
   "execution_count": 14
  },
  {
   "cell_type": "code",
   "outputs": [
    {
     "data": {
      "text/plain": "984"
     },
     "execution_count": 15,
     "metadata": {},
     "output_type": "execute_result"
    }
   ],
   "source": [
    "df_jeonBuk_child_protection_zone_total = df_jeonBuk_child_protection_zone['초등학교'].sum() + df_jeonBuk_child_protection_zone['일반유치원'].sum() + df_jeonBuk_child_protection_zone['병설유치원'].sum() + df_jeonBuk_child_protection_zone['특수학교'].sum() + df_jeonBuk_child_protection_zone['어린이집'].sum() + df_jeonBuk_child_protection_zone['학원'].sum() + df_jeonBuk_child_protection_zone['외국인학교_대안학교_국제학교'].sum() + df_jeonBuk_child_protection_zone['조례로 정하는 시설 또는 장소'].sum()\n",
    "df_jeonBuk_child_protection_zone_total"
   ],
   "metadata": {
    "collapsed": false,
    "ExecuteTime": {
     "end_time": "2024-05-12T10:09:36.724795Z",
     "start_time": "2024-05-12T10:09:36.592744Z"
    }
   },
   "id": "e6cc1b22686729f",
   "execution_count": 15
  },
  {
   "cell_type": "code",
   "outputs": [
    {
     "name": "stdout",
     "output_type": "stream",
     "text": [
      "     구분  어린이보호구역 합계   학교 합계\n",
      "0    서울       27200  1309.0\n",
      "1    부산       13536   616.0\n",
      "2    대구       12000   468.0\n",
      "3    인천       10704   543.0\n",
      "4    광주        6736   315.0\n",
      "5    대전        7328   303.0\n",
      "6    울산        5216   243.0\n",
      "7    강원       12096   641.0\n",
      "8    충북       11536   480.0\n",
      "9    충남       16928   728.0\n",
      "10   전북       15744   761.0\n",
      "11   전남       16768   852.0\n",
      "12   경북       19776   936.0\n",
      "13   경남       19552   984.0\n",
      "14   제주        5392   200.0\n",
      "15  경기도       63328  2512.0\n"
     ]
    }
   ],
   "source": [
    "import pandas as pd\n",
    "\n",
    "# 각 도시별로 초등학교, 일반유치원 등 어린이보호구역 수를 합산\n",
    "df_child_protection['어린이보호구역 합계'] = df_child_protection.iloc[:, 1:].sum(axis=1)\n",
    "total_summary = df_child_protection[['구분', '어린이보호구역 합계']]\n",
    "\n",
    "# '시도교육청명'을 기준으로 학교 수 집계\n",
    "school_counts = df_school_location.groupby('시도교육청명').size().reset_index(name='학교 합계')\n",
    "school_counts['시도교육청명'] = school_counts['시도교육청명'].apply(lambda x: x.replace('교육청', '').replace('특별자치도', '').replace('특별시', ''))\n",
    "\n",
    "# 합치기\n",
    "total_summary = pd.merge(total_summary, school_counts, left_on='구분', right_on='시도교육청명', how='left')\n",
    "total_summary.drop(columns='시도교육청명', inplace=True)\n",
    "\n",
    "# 지역명 매핑 및 학교 수 업데이트\n",
    "mapping_corrections = {\n",
    "    '경기남부': '경기도', \n",
    "    '경기북부': '경기도', \n",
    "    '충남': '충청남도', \n",
    "    '충북': '충청북도', \n",
    "    '전남': '전라남도',\n",
    "    '경북': '경상북도', \n",
    "    '경남': '경상남도', \n",
    "    '세종': '경기도',\n",
    "    '광주': '광주광역시',\n",
    "    '부산': '부산광역시',\n",
    "    '대구': '대구광역시',\n",
    "    '인천': '인천광역시',\n",
    "    '대전': '대전광역시',\n",
    "    '울산': '울산광역시'\n",
    "}\n",
    "\n",
    "for key, value in mapping_corrections.items():\n",
    "    if value in school_counts['시도교육청명'].values:\n",
    "        school_total = school_counts[school_counts['시도교육청명'] == value]['학교 합계'].sum()\n",
    "        total_summary.loc[total_summary['구분'] == key, '학교 합계'] = school_total\n",
    "\n",
    "# '세종', '경기남부', '경기북부'의 데이터를 추출하고 병합\n",
    "regions_to_merge = ['세종', '경기남부', '경기북부']\n",
    "merged_data = total_summary[total_summary['구분'].isin(regions_to_merge)]\n",
    "\n",
    "# 합계와 학교합계를 합산\n",
    "merged_sum = merged_data['어린이보호구역 합계'].sum()\n",
    "merged_school_sum = merged_data['학교 합계'].max()  # 모든 값이 같으므로 max를 사용해도 동일한 결과\n",
    "\n",
    "# '경기도'로 새로운 행 추가\n",
    "new_row = pd.DataFrame({\n",
    "    '구분': ['경기도'],\n",
    "    '어린이보호구역 합계': [merged_sum],\n",
    "    '학교 합계': [merged_school_sum]\n",
    "})\n",
    "\n",
    "# 기존 행 삭제 후 새로운 행 추가\n",
    "total_summary = total_summary[~total_summary['구분'].isin(regions_to_merge)]\n",
    "total_summary = pd.concat([total_summary, new_row], ignore_index=True)\n",
    "\n",
    "print(total_summary)"
   ],
   "metadata": {
    "collapsed": false,
    "ExecuteTime": {
     "end_time": "2024-05-12T10:43:38.034826Z",
     "start_time": "2024-05-12T10:43:38.022814Z"
    }
   },
   "id": "8032f1743183b56",
   "execution_count": 66
  },
  {
   "cell_type": "code",
   "outputs": [
    {
     "name": "stdout",
     "output_type": "stream",
     "text": [
      "     구분  어린이보호구역 합계   학교 합계  평생교육원합계\n",
      "0    서울       27200  1309.0   1918.0\n",
      "1    부산       13536   616.0    262.0\n",
      "2    대구       12000   468.0    160.0\n",
      "3    인천       10704   543.0    226.0\n",
      "4    광주        6736   315.0    146.0\n",
      "5    대전        7328   303.0    106.0\n",
      "6    울산        5216   243.0     49.0\n",
      "7    강원       12096   641.0    113.0\n",
      "8    충북       11536   480.0     89.0\n",
      "9    충남       16928   728.0    145.0\n",
      "10   전북       15744   761.0    111.0\n",
      "11   전남       16768   852.0    113.0\n",
      "12   경북       19776   936.0    149.0\n",
      "13   경남       19552   984.0    175.0\n",
      "14   제주        5392   200.0     37.0\n",
      "15  경기도       63328  2512.0   1230.0\n"
     ]
    }
   ],
   "source": [
    "import pandas as pd\n",
    "\n",
    "# 평생교육원 데이터 파일 경로\n",
    "lifelong_education_file_path = 'data/한국교육개발원_평생교육기관리스트_20221231.csv'\n",
    "\n",
    "# 평생교육원 데이터 불러오기\n",
    "df_lifelong_education = pd.read_csv(lifelong_education_file_path, encoding='CP949')\n",
    "\n",
    "# '시도'를 기준으로 평생교육원의 수를 집계\n",
    "lifelong_education_counts = df_lifelong_education.groupby('시도').size().reset_index(name='평생교육원합계')\n",
    "\n",
    "# 기존의 total_summary 데이터프레임과 합치기\n",
    "total_summary = pd.merge(total_summary, lifelong_education_counts, left_on='구분', right_on='시도', how='left')\n",
    "\n",
    "# '시도' 열은 필요 없으므로 삭제\n",
    "total_summary.drop(columns='시도', inplace=True)\n",
    "\n",
    "# 경기도 데이터 병합 및 수정\n",
    "regions_corrected = ['경기', '세종']\n",
    "lifelong_education_corrected_sum = lifelong_education_counts[lifelong_education_counts['시도'].isin(regions_corrected)]['평생교육원합계'].sum()\n",
    "total_summary.loc[total_summary['구분'] == '경기도', '평생교육원합계'] = lifelong_education_corrected_sum\n",
    "\n",
    "# 최종 결과 출력\n",
    "print(total_summary)\n"
   ],
   "metadata": {
    "collapsed": false,
    "ExecuteTime": {
     "end_time": "2024-05-12T10:43:45.392507Z",
     "start_time": "2024-05-12T10:43:45.363568Z"
    }
   },
   "id": "e4ace2aca0ec7f3",
   "execution_count": 67
  },
  {
   "cell_type": "code",
   "outputs": [
    {
     "data": {
      "text/plain": "     구분  어린이보호구역 합계   학교 합계  평생교육원합계       인구수\n0    서울       27200  1309.0   1918.0   9378269\n1    부산       13536   616.0    262.0   3284947\n2    대구       12000   468.0    160.0   2368670\n3    인천       10704   543.0    226.0   3008484\n4    광주        6736   315.0    146.0   1414862\n5    대전        7328   303.0    106.0   1441272\n6    울산        5216   243.0     49.0   1101059\n7    강원       12096   641.0    113.0   1523661\n8    충북       11536   480.0     89.0   1590854\n9    충남       16928   728.0    145.0   2133828\n10   전북       15744   761.0    111.0   1748047\n11   전남       16768   852.0    113.0   1797199\n12   경북       19776   936.0    149.0   2546120\n13   경남       19552   984.0    175.0   3239224\n14   제주        5392   200.0     37.0    672775\n15  경기도       63328  2512.0   1230.0  13648156",
      "text/html": "<div>\n<style scoped>\n    .dataframe tbody tr th:only-of-type {\n        vertical-align: middle;\n    }\n\n    .dataframe tbody tr th {\n        vertical-align: top;\n    }\n\n    .dataframe thead th {\n        text-align: right;\n    }\n</style>\n<table border=\"1\" class=\"dataframe\">\n  <thead>\n    <tr style=\"text-align: right;\">\n      <th></th>\n      <th>구분</th>\n      <th>어린이보호구역 합계</th>\n      <th>학교 합계</th>\n      <th>평생교육원합계</th>\n      <th>인구수</th>\n    </tr>\n  </thead>\n  <tbody>\n    <tr>\n      <th>0</th>\n      <td>서울</td>\n      <td>27200</td>\n      <td>1309.0</td>\n      <td>1918.0</td>\n      <td>9378269</td>\n    </tr>\n    <tr>\n      <th>1</th>\n      <td>부산</td>\n      <td>13536</td>\n      <td>616.0</td>\n      <td>262.0</td>\n      <td>3284947</td>\n    </tr>\n    <tr>\n      <th>2</th>\n      <td>대구</td>\n      <td>12000</td>\n      <td>468.0</td>\n      <td>160.0</td>\n      <td>2368670</td>\n    </tr>\n    <tr>\n      <th>3</th>\n      <td>인천</td>\n      <td>10704</td>\n      <td>543.0</td>\n      <td>226.0</td>\n      <td>3008484</td>\n    </tr>\n    <tr>\n      <th>4</th>\n      <td>광주</td>\n      <td>6736</td>\n      <td>315.0</td>\n      <td>146.0</td>\n      <td>1414862</td>\n    </tr>\n    <tr>\n      <th>5</th>\n      <td>대전</td>\n      <td>7328</td>\n      <td>303.0</td>\n      <td>106.0</td>\n      <td>1441272</td>\n    </tr>\n    <tr>\n      <th>6</th>\n      <td>울산</td>\n      <td>5216</td>\n      <td>243.0</td>\n      <td>49.0</td>\n      <td>1101059</td>\n    </tr>\n    <tr>\n      <th>7</th>\n      <td>강원</td>\n      <td>12096</td>\n      <td>641.0</td>\n      <td>113.0</td>\n      <td>1523661</td>\n    </tr>\n    <tr>\n      <th>8</th>\n      <td>충북</td>\n      <td>11536</td>\n      <td>480.0</td>\n      <td>89.0</td>\n      <td>1590854</td>\n    </tr>\n    <tr>\n      <th>9</th>\n      <td>충남</td>\n      <td>16928</td>\n      <td>728.0</td>\n      <td>145.0</td>\n      <td>2133828</td>\n    </tr>\n    <tr>\n      <th>10</th>\n      <td>전북</td>\n      <td>15744</td>\n      <td>761.0</td>\n      <td>111.0</td>\n      <td>1748047</td>\n    </tr>\n    <tr>\n      <th>11</th>\n      <td>전남</td>\n      <td>16768</td>\n      <td>852.0</td>\n      <td>113.0</td>\n      <td>1797199</td>\n    </tr>\n    <tr>\n      <th>12</th>\n      <td>경북</td>\n      <td>19776</td>\n      <td>936.0</td>\n      <td>149.0</td>\n      <td>2546120</td>\n    </tr>\n    <tr>\n      <th>13</th>\n      <td>경남</td>\n      <td>19552</td>\n      <td>984.0</td>\n      <td>175.0</td>\n      <td>3239224</td>\n    </tr>\n    <tr>\n      <th>14</th>\n      <td>제주</td>\n      <td>5392</td>\n      <td>200.0</td>\n      <td>37.0</td>\n      <td>672775</td>\n    </tr>\n    <tr>\n      <th>15</th>\n      <td>경기도</td>\n      <td>63328</td>\n      <td>2512.0</td>\n      <td>1230.0</td>\n      <td>13648156</td>\n    </tr>\n  </tbody>\n</table>\n</div>"
     },
     "execution_count": 75,
     "metadata": {},
     "output_type": "execute_result"
    }
   ],
   "source": [
    "# 새로운 인구 데이터 파일 경로\n",
    "population_file_path = 'data/202404_202404_연령별인구현황_월간.csv'\n",
    "\n",
    "# 파일 불러오기 (인코딩 문제 예상으로 CP949 사용)\n",
    "df_population = pd.read_csv(population_file_path, encoding='CP949')\n",
    "\n",
    "# 데이터의 처음 몇 줄과 구조를 확인\n",
    "df_population.head(), df_population.columns\n",
    "\n",
    "# '행정구역' 열에서 괄호와 괄호 안의 내용 제거\n",
    "df_population['행정구역'] = df_population['행정구역'].str.replace(r\"\\s+\\(.*\\)\", \"\", regex=True)\n",
    "\n",
    "# 행정구역 매핑 수정\n",
    "additional_mapping = {\n",
    "    '충북': '충청북도',\n",
    "    '충남': '충청남도',\n",
    "    '전남': '전라남도',\n",
    "    '경북': '경상북도',\n",
    "    '경남': '경상남도'\n",
    "}\n",
    "\n",
    "# '구분'을 기준으로 인구 데이터 매핑\n",
    "population_mapping = {}\n",
    "for index, row in total_summary.iterrows():\n",
    "    # 매핑된 행정구역 이름을 사용\n",
    "    region = additional_mapping.get(row['구분'], row['구분'])\n",
    "    population_data = df_population[df_population['행정구역'].str.contains(region)]['2024년04월_계_총인구수'].values\n",
    "    if population_data.size > 0:\n",
    "        population_mapping[row['구분']] = int(population_data[0].replace(\",\", \"\"))  # 쉼표 제거하고 정수형으로 변환\n",
    "\n",
    "# 인구수 데이터를 total_summary에 추가\n",
    "total_summary['인구수'] = total_summary['구분'].map(population_mapping)\n",
    "\n",
    "total_summary\n"
   ],
   "metadata": {
    "collapsed": false,
    "ExecuteTime": {
     "end_time": "2024-05-12T10:55:20.183466Z",
     "start_time": "2024-05-12T10:55:20.166606Z"
    }
   },
   "id": "5ccf06c65f852359",
   "execution_count": 75
  },
  {
   "cell_type": "code",
   "outputs": [],
   "source": [],
   "metadata": {
    "collapsed": false,
    "ExecuteTime": {
     "end_time": "2024-05-12T11:12:26.295783Z",
     "start_time": "2024-05-12T11:12:26.279419Z"
    }
   },
   "id": "805c9fbc9945c35d",
   "execution_count": 90
  },
  {
   "cell_type": "code",
   "outputs": [],
   "source": [],
   "metadata": {
    "collapsed": false,
    "ExecuteTime": {
     "end_time": "2024-05-12T11:12:27.218295Z",
     "start_time": "2024-05-12T11:12:27.214250Z"
    }
   },
   "id": "839a102a925c9af3",
   "execution_count": 90
  },
  {
   "cell_type": "code",
   "outputs": [
    {
     "data": {
      "text/plain": "     구분  어린이보호구역 합계   학교 합계  평생교육원합계       인구수  도시화 지수  고령화 지수  통합 지역 발전 지수  \\\n0    서울       27200  1309.0   1918.0   9378269   47.12  317.02     -1349.50   \n1    부산       13536   616.0    262.0   3284947   18.36   33.98       -78.10   \n2    대구       12000   468.0    160.0   2368670   14.09   18.08       -19.95   \n3    인천       10704   543.0    226.0   3008484   10.54   21.18       -53.20   \n4    광주        6736   315.0    146.0   1414862   14.07   29.14       -75.35   \n5    대전        7328   303.0    106.0   1441272   14.13   19.63       -27.50   \n6    울산        5216   243.0     49.0   1101059    5.14    4.61         2.65   \n7    강원       12096   641.0    113.0   1523661    0.76    0.67         0.45   \n8    충북       11536   480.0     89.0   1590854    1.62    1.20         2.10   \n9    충남       16928   728.0    145.0   2133828    2.14    1.76         1.90   \n10   전북       15744   761.0    111.0   1748047    2.04    1.37         3.35   \n11   전남       16768   852.0    113.0   1797199    1.43    0.91         2.60   \n12   경북       19776   936.0    149.0   2546120    1.09    0.78         1.55   \n13   경남       19552   984.0    175.0   3239224    1.95    1.66         1.45   \n14   제주        5392   200.0     37.0    672775    3.02    2.00         5.10   \n15  경기도       63328  2512.0   1230.0  13648156    6.45   12.06       -28.05   \n\n         면적  \n0     605.0  \n1     771.0  \n2     885.0  \n3    1067.0  \n4     501.0  \n5     540.0  \n6    1063.0  \n7   16830.0  \n8    7407.0  \n9    8247.0  \n10   8073.0  \n11  12361.0  \n12  19036.0  \n13  10542.0  \n14   1850.0  \n15  10200.0  ",
      "text/html": "<div>\n<style scoped>\n    .dataframe tbody tr th:only-of-type {\n        vertical-align: middle;\n    }\n\n    .dataframe tbody tr th {\n        vertical-align: top;\n    }\n\n    .dataframe thead th {\n        text-align: right;\n    }\n</style>\n<table border=\"1\" class=\"dataframe\">\n  <thead>\n    <tr style=\"text-align: right;\">\n      <th></th>\n      <th>구분</th>\n      <th>어린이보호구역 합계</th>\n      <th>학교 합계</th>\n      <th>평생교육원합계</th>\n      <th>인구수</th>\n      <th>도시화 지수</th>\n      <th>고령화 지수</th>\n      <th>통합 지역 발전 지수</th>\n      <th>면적</th>\n    </tr>\n  </thead>\n  <tbody>\n    <tr>\n      <th>0</th>\n      <td>서울</td>\n      <td>27200</td>\n      <td>1309.0</td>\n      <td>1918.0</td>\n      <td>9378269</td>\n      <td>47.12</td>\n      <td>317.02</td>\n      <td>-1349.50</td>\n      <td>605.0</td>\n    </tr>\n    <tr>\n      <th>1</th>\n      <td>부산</td>\n      <td>13536</td>\n      <td>616.0</td>\n      <td>262.0</td>\n      <td>3284947</td>\n      <td>18.36</td>\n      <td>33.98</td>\n      <td>-78.10</td>\n      <td>771.0</td>\n    </tr>\n    <tr>\n      <th>2</th>\n      <td>대구</td>\n      <td>12000</td>\n      <td>468.0</td>\n      <td>160.0</td>\n      <td>2368670</td>\n      <td>14.09</td>\n      <td>18.08</td>\n      <td>-19.95</td>\n      <td>885.0</td>\n    </tr>\n    <tr>\n      <th>3</th>\n      <td>인천</td>\n      <td>10704</td>\n      <td>543.0</td>\n      <td>226.0</td>\n      <td>3008484</td>\n      <td>10.54</td>\n      <td>21.18</td>\n      <td>-53.20</td>\n      <td>1067.0</td>\n    </tr>\n    <tr>\n      <th>4</th>\n      <td>광주</td>\n      <td>6736</td>\n      <td>315.0</td>\n      <td>146.0</td>\n      <td>1414862</td>\n      <td>14.07</td>\n      <td>29.14</td>\n      <td>-75.35</td>\n      <td>501.0</td>\n    </tr>\n    <tr>\n      <th>5</th>\n      <td>대전</td>\n      <td>7328</td>\n      <td>303.0</td>\n      <td>106.0</td>\n      <td>1441272</td>\n      <td>14.13</td>\n      <td>19.63</td>\n      <td>-27.50</td>\n      <td>540.0</td>\n    </tr>\n    <tr>\n      <th>6</th>\n      <td>울산</td>\n      <td>5216</td>\n      <td>243.0</td>\n      <td>49.0</td>\n      <td>1101059</td>\n      <td>5.14</td>\n      <td>4.61</td>\n      <td>2.65</td>\n      <td>1063.0</td>\n    </tr>\n    <tr>\n      <th>7</th>\n      <td>강원</td>\n      <td>12096</td>\n      <td>641.0</td>\n      <td>113.0</td>\n      <td>1523661</td>\n      <td>0.76</td>\n      <td>0.67</td>\n      <td>0.45</td>\n      <td>16830.0</td>\n    </tr>\n    <tr>\n      <th>8</th>\n      <td>충북</td>\n      <td>11536</td>\n      <td>480.0</td>\n      <td>89.0</td>\n      <td>1590854</td>\n      <td>1.62</td>\n      <td>1.20</td>\n      <td>2.10</td>\n      <td>7407.0</td>\n    </tr>\n    <tr>\n      <th>9</th>\n      <td>충남</td>\n      <td>16928</td>\n      <td>728.0</td>\n      <td>145.0</td>\n      <td>2133828</td>\n      <td>2.14</td>\n      <td>1.76</td>\n      <td>1.90</td>\n      <td>8247.0</td>\n    </tr>\n    <tr>\n      <th>10</th>\n      <td>전북</td>\n      <td>15744</td>\n      <td>761.0</td>\n      <td>111.0</td>\n      <td>1748047</td>\n      <td>2.04</td>\n      <td>1.37</td>\n      <td>3.35</td>\n      <td>8073.0</td>\n    </tr>\n    <tr>\n      <th>11</th>\n      <td>전남</td>\n      <td>16768</td>\n      <td>852.0</td>\n      <td>113.0</td>\n      <td>1797199</td>\n      <td>1.43</td>\n      <td>0.91</td>\n      <td>2.60</td>\n      <td>12361.0</td>\n    </tr>\n    <tr>\n      <th>12</th>\n      <td>경북</td>\n      <td>19776</td>\n      <td>936.0</td>\n      <td>149.0</td>\n      <td>2546120</td>\n      <td>1.09</td>\n      <td>0.78</td>\n      <td>1.55</td>\n      <td>19036.0</td>\n    </tr>\n    <tr>\n      <th>13</th>\n      <td>경남</td>\n      <td>19552</td>\n      <td>984.0</td>\n      <td>175.0</td>\n      <td>3239224</td>\n      <td>1.95</td>\n      <td>1.66</td>\n      <td>1.45</td>\n      <td>10542.0</td>\n    </tr>\n    <tr>\n      <th>14</th>\n      <td>제주</td>\n      <td>5392</td>\n      <td>200.0</td>\n      <td>37.0</td>\n      <td>672775</td>\n      <td>3.02</td>\n      <td>2.00</td>\n      <td>5.10</td>\n      <td>1850.0</td>\n    </tr>\n    <tr>\n      <th>15</th>\n      <td>경기도</td>\n      <td>63328</td>\n      <td>2512.0</td>\n      <td>1230.0</td>\n      <td>13648156</td>\n      <td>6.45</td>\n      <td>12.06</td>\n      <td>-28.05</td>\n      <td>10200.0</td>\n    </tr>\n  </tbody>\n</table>\n</div>"
     },
     "execution_count": 122,
     "metadata": {},
     "output_type": "execute_result"
    }
   ],
   "source": [
    "# 면적 데이터 파일 경로\n",
    "area_file_path = 'data/지역별_면적_20240512200416.csv'\n",
    "\n",
    "# 파일 불러오기 (인코딩 문제 예상으로 CP949 사용)\n",
    "df_area = pd.read_csv(area_file_path, encoding='CP949')\n",
    "\n",
    "# 데이터의 처음 몇 줄과 구조를 확인\n",
    "df_area.head(), df_area.columns\n",
    "\n",
    "# 행정구역 매핑\n",
    "area_mapping = {\n",
    "    '전북': '전라북도',\n",
    "    '전남': '전라남도',\n",
    "    '충북': '충청북도',\n",
    "    '충남': '충청남도',\n",
    "    '경북': '경상북도',\n",
    "    '경남': '경상남도',\n",
    "    '서울': '서울특별시',\n",
    "    '부산': '부산광역시',\n",
    "    '대구': '대구광역시',\n",
    "    '인천': '인천광역시',\n",
    "    '광주': '광주광역시',\n",
    "    '대전': '대전광역시',\n",
    "    '울산': '울산광역시',\n",
    "    '강원': '강원도',\n",
    "    '경기도': '경기도',\n",
    "    '제주': '제주특별자치도'\n",
    "}\n",
    "\n",
    "# '남북한별 ' 열에서 필요한 매핑을 적용하여 면적 데이터 추출\n",
    "area_values = {}\n",
    "for index, row in df_area.iterrows():\n",
    "    region_name = row['남북한별 '].strip()\n",
    "    # 매핑된 행정구역 이름을 사용\n",
    "    for key, value in area_mapping.items():\n",
    "        if value in region_name:\n",
    "            area_values[key] = float(row['2022'].replace('-', '0'))  # 하이픈은 0으로 처리\n",
    "\n",
    "# '구분'을 기준으로 total_summary에 면적 데이터 추가\n",
    "total_summary['면적'] = total_summary['구분'].map(area_values)\n",
    "\n",
    "total_summary\n"
   ],
   "metadata": {
    "collapsed": false,
    "ExecuteTime": {
     "end_time": "2024-05-12T11:26:28.059365Z",
     "start_time": "2024-05-12T11:26:28.041540Z"
    }
   },
   "id": "4c88f3c7be77bc50",
   "execution_count": 122
  },
  {
   "cell_type": "code",
   "outputs": [
    {
     "data": {
      "text/plain": "     구분  어린이보호구역 합계   학교 합계  평생교육원합계       인구수  도시화 지수  고령화 지수  통합 지역 발전 지수  \\\n0    서울       27200  1309.0   1918.0   9378269   47.12    0.02     -1349.50   \n1    부산       13536   616.0    262.0   3284947   18.36    0.01       -78.10   \n2    대구       12000   468.0    160.0   2368670   14.09    0.01       -19.95   \n3    인천       10704   543.0    226.0   3008484   10.54    0.01       -53.20   \n4    광주        6736   315.0    146.0   1414862   14.07    0.01       -75.35   \n5    대전        7328   303.0    106.0   1441272   14.13    0.01       -27.50   \n6    울산        5216   243.0     49.0   1101059    5.14    0.00         2.65   \n7    강원       12096   641.0    113.0   1523661    0.76    0.01         0.45   \n8    충북       11536   480.0     89.0   1590854    1.62    0.01         2.10   \n9    충남       16928   728.0    145.0   2133828    2.14    0.01         1.90   \n10   전북       15744   761.0    111.0   1748047    2.04    0.01         3.35   \n11   전남       16768   852.0    113.0   1797199    1.43    0.01         2.60   \n12   경북       19776   936.0    149.0   2546120    1.09    0.01         1.55   \n13   경남       19552   984.0    175.0   3239224    1.95    0.01         1.45   \n14   제주        5392   200.0     37.0    672775    3.02    0.01         5.10   \n15  경기도       63328  2512.0   1230.0  13648156    6.45    0.01       -28.05   \n\n         면적  \n0     605.0  \n1     771.0  \n2     885.0  \n3    1067.0  \n4     501.0  \n5     540.0  \n6    1063.0  \n7   16830.0  \n8    7407.0  \n9    8247.0  \n10   8073.0  \n11  12361.0  \n12  19036.0  \n13  10542.0  \n14   1850.0  \n15  10200.0  ",
      "text/html": "<div>\n<style scoped>\n    .dataframe tbody tr th:only-of-type {\n        vertical-align: middle;\n    }\n\n    .dataframe tbody tr th {\n        vertical-align: top;\n    }\n\n    .dataframe thead th {\n        text-align: right;\n    }\n</style>\n<table border=\"1\" class=\"dataframe\">\n  <thead>\n    <tr style=\"text-align: right;\">\n      <th></th>\n      <th>구분</th>\n      <th>어린이보호구역 합계</th>\n      <th>학교 합계</th>\n      <th>평생교육원합계</th>\n      <th>인구수</th>\n      <th>도시화 지수</th>\n      <th>고령화 지수</th>\n      <th>통합 지역 발전 지수</th>\n      <th>면적</th>\n    </tr>\n  </thead>\n  <tbody>\n    <tr>\n      <th>0</th>\n      <td>서울</td>\n      <td>27200</td>\n      <td>1309.0</td>\n      <td>1918.0</td>\n      <td>9378269</td>\n      <td>47.12</td>\n      <td>0.02</td>\n      <td>-1349.50</td>\n      <td>605.0</td>\n    </tr>\n    <tr>\n      <th>1</th>\n      <td>부산</td>\n      <td>13536</td>\n      <td>616.0</td>\n      <td>262.0</td>\n      <td>3284947</td>\n      <td>18.36</td>\n      <td>0.01</td>\n      <td>-78.10</td>\n      <td>771.0</td>\n    </tr>\n    <tr>\n      <th>2</th>\n      <td>대구</td>\n      <td>12000</td>\n      <td>468.0</td>\n      <td>160.0</td>\n      <td>2368670</td>\n      <td>14.09</td>\n      <td>0.01</td>\n      <td>-19.95</td>\n      <td>885.0</td>\n    </tr>\n    <tr>\n      <th>3</th>\n      <td>인천</td>\n      <td>10704</td>\n      <td>543.0</td>\n      <td>226.0</td>\n      <td>3008484</td>\n      <td>10.54</td>\n      <td>0.01</td>\n      <td>-53.20</td>\n      <td>1067.0</td>\n    </tr>\n    <tr>\n      <th>4</th>\n      <td>광주</td>\n      <td>6736</td>\n      <td>315.0</td>\n      <td>146.0</td>\n      <td>1414862</td>\n      <td>14.07</td>\n      <td>0.01</td>\n      <td>-75.35</td>\n      <td>501.0</td>\n    </tr>\n    <tr>\n      <th>5</th>\n      <td>대전</td>\n      <td>7328</td>\n      <td>303.0</td>\n      <td>106.0</td>\n      <td>1441272</td>\n      <td>14.13</td>\n      <td>0.01</td>\n      <td>-27.50</td>\n      <td>540.0</td>\n    </tr>\n    <tr>\n      <th>6</th>\n      <td>울산</td>\n      <td>5216</td>\n      <td>243.0</td>\n      <td>49.0</td>\n      <td>1101059</td>\n      <td>5.14</td>\n      <td>0.00</td>\n      <td>2.65</td>\n      <td>1063.0</td>\n    </tr>\n    <tr>\n      <th>7</th>\n      <td>강원</td>\n      <td>12096</td>\n      <td>641.0</td>\n      <td>113.0</td>\n      <td>1523661</td>\n      <td>0.76</td>\n      <td>0.01</td>\n      <td>0.45</td>\n      <td>16830.0</td>\n    </tr>\n    <tr>\n      <th>8</th>\n      <td>충북</td>\n      <td>11536</td>\n      <td>480.0</td>\n      <td>89.0</td>\n      <td>1590854</td>\n      <td>1.62</td>\n      <td>0.01</td>\n      <td>2.10</td>\n      <td>7407.0</td>\n    </tr>\n    <tr>\n      <th>9</th>\n      <td>충남</td>\n      <td>16928</td>\n      <td>728.0</td>\n      <td>145.0</td>\n      <td>2133828</td>\n      <td>2.14</td>\n      <td>0.01</td>\n      <td>1.90</td>\n      <td>8247.0</td>\n    </tr>\n    <tr>\n      <th>10</th>\n      <td>전북</td>\n      <td>15744</td>\n      <td>761.0</td>\n      <td>111.0</td>\n      <td>1748047</td>\n      <td>2.04</td>\n      <td>0.01</td>\n      <td>3.35</td>\n      <td>8073.0</td>\n    </tr>\n    <tr>\n      <th>11</th>\n      <td>전남</td>\n      <td>16768</td>\n      <td>852.0</td>\n      <td>113.0</td>\n      <td>1797199</td>\n      <td>1.43</td>\n      <td>0.01</td>\n      <td>2.60</td>\n      <td>12361.0</td>\n    </tr>\n    <tr>\n      <th>12</th>\n      <td>경북</td>\n      <td>19776</td>\n      <td>936.0</td>\n      <td>149.0</td>\n      <td>2546120</td>\n      <td>1.09</td>\n      <td>0.01</td>\n      <td>1.55</td>\n      <td>19036.0</td>\n    </tr>\n    <tr>\n      <th>13</th>\n      <td>경남</td>\n      <td>19552</td>\n      <td>984.0</td>\n      <td>175.0</td>\n      <td>3239224</td>\n      <td>1.95</td>\n      <td>0.01</td>\n      <td>1.45</td>\n      <td>10542.0</td>\n    </tr>\n    <tr>\n      <th>14</th>\n      <td>제주</td>\n      <td>5392</td>\n      <td>200.0</td>\n      <td>37.0</td>\n      <td>672775</td>\n      <td>3.02</td>\n      <td>0.01</td>\n      <td>5.10</td>\n      <td>1850.0</td>\n    </tr>\n    <tr>\n      <th>15</th>\n      <td>경기도</td>\n      <td>63328</td>\n      <td>2512.0</td>\n      <td>1230.0</td>\n      <td>13648156</td>\n      <td>6.45</td>\n      <td>0.01</td>\n      <td>-28.05</td>\n      <td>10200.0</td>\n    </tr>\n  </tbody>\n</table>\n</div>"
     },
     "execution_count": 126,
     "metadata": {},
     "output_type": "execute_result"
    }
   ],
   "source": [
    "total_summary['도시화 지수'] = ((total_summary['어린이보호구역 합계'] + total_summary['학교 합계']) / total_summary['면적'])\n",
    "\n",
    "total_summary['고령화 지수'] = (total_summary['평생교육원합계'] / total_summary['인구수']) * 100\n",
    "\n",
    "total_summary['도시화 지수'] = total_summary['도시화 지수'].round(2)\n",
    "total_summary['고령화 지수'] = total_summary['고령화 지수'].round(2)\n",
    "\n",
    "total_summary\n"
   ],
   "metadata": {
    "collapsed": false,
    "ExecuteTime": {
     "end_time": "2024-05-12T11:26:48.526123Z",
     "start_time": "2024-05-12T11:26:48.517590Z"
    }
   },
   "id": "ad5c3bc57cd2f0c8",
   "execution_count": 126
  },
  {
   "cell_type": "code",
   "outputs": [
    {
     "data": {
      "text/plain": "     구분  어린이보호구역 합계   학교 합계  평생교육원합계       인구수  도시화 지수  고령화 지수  통합 지역 발전 지수  \\\n0    서울       27200  1309.0   1918.0   9378269   47.12    0.02       235.50   \n1    부산       13536   616.0    262.0   3284947   18.36    0.01        91.75   \n2    대구       12000   468.0    160.0   2368670   14.09    0.01        70.40   \n3    인천       10704   543.0    226.0   3008484   10.54    0.01        52.65   \n4    광주        6736   315.0    146.0   1414862   14.07    0.01        70.30   \n5    대전        7328   303.0    106.0   1441272   14.13    0.01        70.60   \n6    울산        5216   243.0     49.0   1101059    5.14    0.00        25.70   \n7    강원       12096   641.0    113.0   1523661    0.76    0.01         3.75   \n8    충북       11536   480.0     89.0   1590854    1.62    0.01         8.05   \n9    충남       16928   728.0    145.0   2133828    2.14    0.01        10.65   \n10   전북       15744   761.0    111.0   1748047    2.04    0.01        10.15   \n11   전남       16768   852.0    113.0   1797199    1.43    0.01         7.10   \n12   경북       19776   936.0    149.0   2546120    1.09    0.01         5.40   \n13   경남       19552   984.0    175.0   3239224    1.95    0.01         9.70   \n14   제주        5392   200.0     37.0    672775    3.02    0.01        15.05   \n15  경기도       63328  2512.0   1230.0  13648156    6.45    0.01        32.20   \n\n         면적  \n0     605.0  \n1     771.0  \n2     885.0  \n3    1067.0  \n4     501.0  \n5     540.0  \n6    1063.0  \n7   16830.0  \n8    7407.0  \n9    8247.0  \n10   8073.0  \n11  12361.0  \n12  19036.0  \n13  10542.0  \n14   1850.0  \n15  10200.0  ",
      "text/html": "<div>\n<style scoped>\n    .dataframe tbody tr th:only-of-type {\n        vertical-align: middle;\n    }\n\n    .dataframe tbody tr th {\n        vertical-align: top;\n    }\n\n    .dataframe thead th {\n        text-align: right;\n    }\n</style>\n<table border=\"1\" class=\"dataframe\">\n  <thead>\n    <tr style=\"text-align: right;\">\n      <th></th>\n      <th>구분</th>\n      <th>어린이보호구역 합계</th>\n      <th>학교 합계</th>\n      <th>평생교육원합계</th>\n      <th>인구수</th>\n      <th>도시화 지수</th>\n      <th>고령화 지수</th>\n      <th>통합 지역 발전 지수</th>\n      <th>면적</th>\n    </tr>\n  </thead>\n  <tbody>\n    <tr>\n      <th>0</th>\n      <td>서울</td>\n      <td>27200</td>\n      <td>1309.0</td>\n      <td>1918.0</td>\n      <td>9378269</td>\n      <td>47.12</td>\n      <td>0.02</td>\n      <td>235.50</td>\n      <td>605.0</td>\n    </tr>\n    <tr>\n      <th>1</th>\n      <td>부산</td>\n      <td>13536</td>\n      <td>616.0</td>\n      <td>262.0</td>\n      <td>3284947</td>\n      <td>18.36</td>\n      <td>0.01</td>\n      <td>91.75</td>\n      <td>771.0</td>\n    </tr>\n    <tr>\n      <th>2</th>\n      <td>대구</td>\n      <td>12000</td>\n      <td>468.0</td>\n      <td>160.0</td>\n      <td>2368670</td>\n      <td>14.09</td>\n      <td>0.01</td>\n      <td>70.40</td>\n      <td>885.0</td>\n    </tr>\n    <tr>\n      <th>3</th>\n      <td>인천</td>\n      <td>10704</td>\n      <td>543.0</td>\n      <td>226.0</td>\n      <td>3008484</td>\n      <td>10.54</td>\n      <td>0.01</td>\n      <td>52.65</td>\n      <td>1067.0</td>\n    </tr>\n    <tr>\n      <th>4</th>\n      <td>광주</td>\n      <td>6736</td>\n      <td>315.0</td>\n      <td>146.0</td>\n      <td>1414862</td>\n      <td>14.07</td>\n      <td>0.01</td>\n      <td>70.30</td>\n      <td>501.0</td>\n    </tr>\n    <tr>\n      <th>5</th>\n      <td>대전</td>\n      <td>7328</td>\n      <td>303.0</td>\n      <td>106.0</td>\n      <td>1441272</td>\n      <td>14.13</td>\n      <td>0.01</td>\n      <td>70.60</td>\n      <td>540.0</td>\n    </tr>\n    <tr>\n      <th>6</th>\n      <td>울산</td>\n      <td>5216</td>\n      <td>243.0</td>\n      <td>49.0</td>\n      <td>1101059</td>\n      <td>5.14</td>\n      <td>0.00</td>\n      <td>25.70</td>\n      <td>1063.0</td>\n    </tr>\n    <tr>\n      <th>7</th>\n      <td>강원</td>\n      <td>12096</td>\n      <td>641.0</td>\n      <td>113.0</td>\n      <td>1523661</td>\n      <td>0.76</td>\n      <td>0.01</td>\n      <td>3.75</td>\n      <td>16830.0</td>\n    </tr>\n    <tr>\n      <th>8</th>\n      <td>충북</td>\n      <td>11536</td>\n      <td>480.0</td>\n      <td>89.0</td>\n      <td>1590854</td>\n      <td>1.62</td>\n      <td>0.01</td>\n      <td>8.05</td>\n      <td>7407.0</td>\n    </tr>\n    <tr>\n      <th>9</th>\n      <td>충남</td>\n      <td>16928</td>\n      <td>728.0</td>\n      <td>145.0</td>\n      <td>2133828</td>\n      <td>2.14</td>\n      <td>0.01</td>\n      <td>10.65</td>\n      <td>8247.0</td>\n    </tr>\n    <tr>\n      <th>10</th>\n      <td>전북</td>\n      <td>15744</td>\n      <td>761.0</td>\n      <td>111.0</td>\n      <td>1748047</td>\n      <td>2.04</td>\n      <td>0.01</td>\n      <td>10.15</td>\n      <td>8073.0</td>\n    </tr>\n    <tr>\n      <th>11</th>\n      <td>전남</td>\n      <td>16768</td>\n      <td>852.0</td>\n      <td>113.0</td>\n      <td>1797199</td>\n      <td>1.43</td>\n      <td>0.01</td>\n      <td>7.10</td>\n      <td>12361.0</td>\n    </tr>\n    <tr>\n      <th>12</th>\n      <td>경북</td>\n      <td>19776</td>\n      <td>936.0</td>\n      <td>149.0</td>\n      <td>2546120</td>\n      <td>1.09</td>\n      <td>0.01</td>\n      <td>5.40</td>\n      <td>19036.0</td>\n    </tr>\n    <tr>\n      <th>13</th>\n      <td>경남</td>\n      <td>19552</td>\n      <td>984.0</td>\n      <td>175.0</td>\n      <td>3239224</td>\n      <td>1.95</td>\n      <td>0.01</td>\n      <td>9.70</td>\n      <td>10542.0</td>\n    </tr>\n    <tr>\n      <th>14</th>\n      <td>제주</td>\n      <td>5392</td>\n      <td>200.0</td>\n      <td>37.0</td>\n      <td>672775</td>\n      <td>3.02</td>\n      <td>0.01</td>\n      <td>15.05</td>\n      <td>1850.0</td>\n    </tr>\n    <tr>\n      <th>15</th>\n      <td>경기도</td>\n      <td>63328</td>\n      <td>2512.0</td>\n      <td>1230.0</td>\n      <td>13648156</td>\n      <td>6.45</td>\n      <td>0.01</td>\n      <td>32.20</td>\n      <td>10200.0</td>\n    </tr>\n  </tbody>\n</table>\n</div>"
     },
     "execution_count": 127,
     "metadata": {},
     "output_type": "execute_result"
    }
   ],
   "source": [
    "total_summary['통합 지역 발전 지수'] = (total_summary['도시화 지수'] * 5 + total_summary['고령화 지수'] * -5)\n",
    "\n",
    "total_summary"
   ],
   "metadata": {
    "collapsed": false,
    "ExecuteTime": {
     "end_time": "2024-05-12T11:26:49.151556Z",
     "start_time": "2024-05-12T11:26:49.143632Z"
    }
   },
   "id": "4db70e86ace73529",
   "execution_count": 127
  },
  {
   "cell_type": "code",
   "outputs": [
    {
     "data": {
      "text/plain": "<Figure size 1400x700 with 1 Axes>",
      "image/png": "[encoded data removed]"
     },
     "metadata": {},
     "output_type": "display_data"
    }
   ],
   "source": [
    "import matplotlib.pyplot as plt\n",
    "\n",
    "# 한글 폰트 설정\n",
    "plt.rc('font', family='AppleGothic')\n",
    "\n",
    "# 지역 이름에 따라 그래프에 표시될 순서를 정렬\n",
    "total_summary_sorted = total_summary.sort_values(by='구분')\n",
    "\n",
    "# 그래프 생성\n",
    "plt.figure(figsize=(14, 7))\n",
    "\n",
    "# '도시화 지수' 막대 그래프\n",
    "plt.bar(total_summary_sorted['구분'], total_summary_sorted['통합 지역 발전 지수'], color='blue', label='통합 지역 발전 지수', alpha=0.6, width=0.4, align='center')\n",
    "\n",
    "# 그래프 제목 및 레이블 설정\n",
    "plt.xlabel('지역')\n",
    "plt.ylabel('지수')\n",
    "plt.title('통합 지역 발전 지수')\n",
    "plt.legend()\n",
    "\n",
    "# x축에 지역 이름 표시\n",
    "plt.xticks(rotation=45)\n",
    "\n",
    "# 그래프 표시\n",
    "plt.tight_layout()\n",
    "plt.show()\n"
   ],
   "metadata": {
    "collapsed": false,
    "ExecuteTime": {
     "end_time": "2024-05-12T11:33:03.191137Z",
     "start_time": "2024-05-12T11:33:03.052713Z"
    }
   },
   "id": "941eee7cace26d11",
   "execution_count": 134
  }
 ],
 "metadata": {
  "kernelspec": {
   "display_name": "Python 3",
   "language": "python",
   "name": "python3"
  },
  "language_info": {
   "codemirror_mode": {
    "name": "ipython",
    "version": 2
   },
   "file_extension": ".py",
   "mimetype": "text/x-python",
   "name": "python",
   "nbconvert_exporter": "python",
   "pygments_lexer": "ipython2",
   "version": "2.7.6"
  }
 },
 "nbformat": 4,
 "nbformat_minor": 5
}
