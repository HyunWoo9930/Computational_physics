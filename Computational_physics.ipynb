{
 "cells": [
  {
   "cell_type": "code",
   "execution_count": 9,
   "id": "initial_id",
   "metadata": {
    "collapsed": true,
    "ExecuteTime": {
     "end_time": "2024-04-08T04:55:41.515183Z",
     "start_time": "2024-04-08T04:55:41.508306Z"
    }
   },
   "outputs": [
    {
     "name": "stdout",
     "output_type": "stream",
     "text": [
      "hello\n"
     ]
    }
   ],
   "source": [
    "print(\"hello\")"
   ]
  },
  {
   "cell_type": "code",
   "outputs": [],
   "source": [
    "import pandas as pd"
   ],
   "metadata": {
    "collapsed": false,
    "ExecuteTime": {
     "end_time": "2024-04-08T04:51:57.489492Z",
     "start_time": "2024-04-08T04:51:50.047406Z"
    }
   },
   "id": "3ba0369d9ee0119e",
   "execution_count": 1
  },
  {
   "cell_type": "code",
   "outputs": [
    {
     "data": {
      "text/plain": "(18, 9)"
     },
     "execution_count": 2,
     "metadata": {},
     "output_type": "execute_result"
    }
   ],
   "source": [
    "df_child_protection = pd.read_csv(\"data/Child_protection_zone.csv\", encoding=\"cp949\")\n",
    "df_school_location = pd.read_csv(\"data/School_location.data.csv\", encoding=\"cp949\")\n",
    "df_child_protection.shape"
   ],
   "metadata": {
    "collapsed": false,
    "ExecuteTime": {
     "end_time": "2024-04-08T04:52:02.231370Z",
     "start_time": "2024-04-08T04:52:02.168177Z"
    }
   },
   "id": "2c0ad80444ab1384",
   "execution_count": 2
  },
  {
   "cell_type": "code",
   "outputs": [
    {
     "data": {
      "text/plain": "   구분  초등학교  일반유치원  병설유치원  특수학교  어린이집  학원  외국인학교_대안학교_국제학교  조례로 정하는 시설 또는 장소\n0  서울   606    367    141    27   488  59               12                 0\n1  부산   306    283     91    15   146   2                3                 0\n2  대구   242    185    139    10   173   1                0                 0\n3  인천   270    173      0     9   202  13                0                 2\n4  광주   157    106      0     7   150   0                1                 0",
      "text/html": "<div>\n<style scoped>\n    .dataframe tbody tr th:only-of-type {\n        vertical-align: middle;\n    }\n\n    .dataframe tbody tr th {\n        vertical-align: top;\n    }\n\n    .dataframe thead th {\n        text-align: right;\n    }\n</style>\n<table border=\"1\" class=\"dataframe\">\n  <thead>\n    <tr style=\"text-align: right;\">\n      <th></th>\n      <th>구분</th>\n      <th>초등학교</th>\n      <th>일반유치원</th>\n      <th>병설유치원</th>\n      <th>특수학교</th>\n      <th>어린이집</th>\n      <th>학원</th>\n      <th>외국인학교_대안학교_국제학교</th>\n      <th>조례로 정하는 시설 또는 장소</th>\n    </tr>\n  </thead>\n  <tbody>\n    <tr>\n      <th>0</th>\n      <td>서울</td>\n      <td>606</td>\n      <td>367</td>\n      <td>141</td>\n      <td>27</td>\n      <td>488</td>\n      <td>59</td>\n      <td>12</td>\n      <td>0</td>\n    </tr>\n    <tr>\n      <th>1</th>\n      <td>부산</td>\n      <td>306</td>\n      <td>283</td>\n      <td>91</td>\n      <td>15</td>\n      <td>146</td>\n      <td>2</td>\n      <td>3</td>\n      <td>0</td>\n    </tr>\n    <tr>\n      <th>2</th>\n      <td>대구</td>\n      <td>242</td>\n      <td>185</td>\n      <td>139</td>\n      <td>10</td>\n      <td>173</td>\n      <td>1</td>\n      <td>0</td>\n      <td>0</td>\n    </tr>\n    <tr>\n      <th>3</th>\n      <td>인천</td>\n      <td>270</td>\n      <td>173</td>\n      <td>0</td>\n      <td>9</td>\n      <td>202</td>\n      <td>13</td>\n      <td>0</td>\n      <td>2</td>\n    </tr>\n    <tr>\n      <th>4</th>\n      <td>광주</td>\n      <td>157</td>\n      <td>106</td>\n      <td>0</td>\n      <td>7</td>\n      <td>150</td>\n      <td>0</td>\n      <td>1</td>\n      <td>0</td>\n    </tr>\n  </tbody>\n</table>\n</div>"
     },
     "execution_count": 3,
     "metadata": {},
     "output_type": "execute_result"
    }
   ],
   "source": [
    "df_child_protection.head()"
   ],
   "metadata": {
    "collapsed": false,
    "ExecuteTime": {
     "end_time": "2024-04-08T04:52:03.212712Z",
     "start_time": "2024-04-08T04:52:03.192358Z"
    }
   },
   "id": "8ffb66e0c727deed",
   "execution_count": 3
  },
  {
   "cell_type": "code",
   "outputs": [
    {
     "data": {
      "text/plain": "    구분  초등학교  일반유치원  병설유치원  특수학교  어린이집  학원  외국인학교_대안학교_국제학교  조례로 정하는 시설 또는 장소\n13  전북   419    102    349    10   103   1                0                 0\n14  전남   438     59    362     5   184   0                0                 0\n15  경북   495    183    431     7   120   0                0                 0\n16  경남   521    150    395     9   145   1                1                 0\n17  제주   118     18    102     3    92   0                4                 0",
      "text/html": "<div>\n<style scoped>\n    .dataframe tbody tr th:only-of-type {\n        vertical-align: middle;\n    }\n\n    .dataframe tbody tr th {\n        vertical-align: top;\n    }\n\n    .dataframe thead th {\n        text-align: right;\n    }\n</style>\n<table border=\"1\" class=\"dataframe\">\n  <thead>\n    <tr style=\"text-align: right;\">\n      <th></th>\n      <th>구분</th>\n      <th>초등학교</th>\n      <th>일반유치원</th>\n      <th>병설유치원</th>\n      <th>특수학교</th>\n      <th>어린이집</th>\n      <th>학원</th>\n      <th>외국인학교_대안학교_국제학교</th>\n      <th>조례로 정하는 시설 또는 장소</th>\n    </tr>\n  </thead>\n  <tbody>\n    <tr>\n      <th>13</th>\n      <td>전북</td>\n      <td>419</td>\n      <td>102</td>\n      <td>349</td>\n      <td>10</td>\n      <td>103</td>\n      <td>1</td>\n      <td>0</td>\n      <td>0</td>\n    </tr>\n    <tr>\n      <th>14</th>\n      <td>전남</td>\n      <td>438</td>\n      <td>59</td>\n      <td>362</td>\n      <td>5</td>\n      <td>184</td>\n      <td>0</td>\n      <td>0</td>\n      <td>0</td>\n    </tr>\n    <tr>\n      <th>15</th>\n      <td>경북</td>\n      <td>495</td>\n      <td>183</td>\n      <td>431</td>\n      <td>7</td>\n      <td>120</td>\n      <td>0</td>\n      <td>0</td>\n      <td>0</td>\n    </tr>\n    <tr>\n      <th>16</th>\n      <td>경남</td>\n      <td>521</td>\n      <td>150</td>\n      <td>395</td>\n      <td>9</td>\n      <td>145</td>\n      <td>1</td>\n      <td>1</td>\n      <td>0</td>\n    </tr>\n    <tr>\n      <th>17</th>\n      <td>제주</td>\n      <td>118</td>\n      <td>18</td>\n      <td>102</td>\n      <td>3</td>\n      <td>92</td>\n      <td>0</td>\n      <td>4</td>\n      <td>0</td>\n    </tr>\n  </tbody>\n</table>\n</div>"
     },
     "execution_count": 4,
     "metadata": {},
     "output_type": "execute_result"
    }
   ],
   "source": [
    "df_child_protection.tail()"
   ],
   "metadata": {
    "collapsed": false,
    "ExecuteTime": {
     "end_time": "2024-04-08T04:52:03.764417Z",
     "start_time": "2024-04-08T04:52:03.761366Z"
    }
   },
   "id": "488317c1f0cf4189",
   "execution_count": 4
  },
  {
   "cell_type": "code",
   "outputs": [
    {
     "data": {
      "text/plain": "      구분  초등학교  일반유치원  병설유치원  특수학교  어린이집  학원  외국인학교_대안학교_국제학교  \\\n0     서울   606    367    141    27   488  59               12   \n1     부산   306    283     91    15   146   2                3   \n2     대구   242    185    139    10   173   1                0   \n3     인천   270    173      0     9   202  13                0   \n4     광주   157    106      0     7   150   0                1   \n5     대전   154     86     83     6   127   1                1   \n6     울산   122     90     64     3    45   2                0   \n7     세종    53     13     50     2    10   0                0   \n8   경기남부   976    443    837    21   488   9                4   \n9   경기북부   376    140    329    10   191   5                1   \n10    강원   359     68    238     8    82   0                0   \n11    충북   265     57    229    12   158   0                0   \n12    충남   418    119    348    12   161   0                0   \n13    전북   419    102    349    10   103   1                0   \n14    전남   438     59    362     5   184   0                0   \n15    경북   495    183    431     7   120   0                0   \n16    경남   521    150    395     9   145   1                1   \n17    제주   118     18    102     3    92   0                4   \n\n    조례로 정하는 시설 또는 장소  \n0                  0  \n1                  0  \n2                  0  \n3                  2  \n4                  0  \n5                  0  \n6                  0  \n7                  0  \n8                  0  \n9                  0  \n10                 1  \n11                 0  \n12                 0  \n13                 0  \n14                 0  \n15                 0  \n16                 0  \n17                 0  ",
      "text/html": "<div>\n<style scoped>\n    .dataframe tbody tr th:only-of-type {\n        vertical-align: middle;\n    }\n\n    .dataframe tbody tr th {\n        vertical-align: top;\n    }\n\n    .dataframe thead th {\n        text-align: right;\n    }\n</style>\n<table border=\"1\" class=\"dataframe\">\n  <thead>\n    <tr style=\"text-align: right;\">\n      <th></th>\n      <th>구분</th>\n      <th>초등학교</th>\n      <th>일반유치원</th>\n      <th>병설유치원</th>\n      <th>특수학교</th>\n      <th>어린이집</th>\n      <th>학원</th>\n      <th>외국인학교_대안학교_국제학교</th>\n      <th>조례로 정하는 시설 또는 장소</th>\n    </tr>\n  </thead>\n  <tbody>\n    <tr>\n      <th>0</th>\n      <td>서울</td>\n      <td>606</td>\n      <td>367</td>\n      <td>141</td>\n      <td>27</td>\n      <td>488</td>\n      <td>59</td>\n      <td>12</td>\n      <td>0</td>\n    </tr>\n    <tr>\n      <th>1</th>\n      <td>부산</td>\n      <td>306</td>\n      <td>283</td>\n      <td>91</td>\n      <td>15</td>\n      <td>146</td>\n      <td>2</td>\n      <td>3</td>\n      <td>0</td>\n    </tr>\n    <tr>\n      <th>2</th>\n      <td>대구</td>\n      <td>242</td>\n      <td>185</td>\n      <td>139</td>\n      <td>10</td>\n      <td>173</td>\n      <td>1</td>\n      <td>0</td>\n      <td>0</td>\n    </tr>\n    <tr>\n      <th>3</th>\n      <td>인천</td>\n      <td>270</td>\n      <td>173</td>\n      <td>0</td>\n      <td>9</td>\n      <td>202</td>\n      <td>13</td>\n      <td>0</td>\n      <td>2</td>\n    </tr>\n    <tr>\n      <th>4</th>\n      <td>광주</td>\n      <td>157</td>\n      <td>106</td>\n      <td>0</td>\n      <td>7</td>\n      <td>150</td>\n      <td>0</td>\n      <td>1</td>\n      <td>0</td>\n    </tr>\n    <tr>\n      <th>5</th>\n      <td>대전</td>\n      <td>154</td>\n      <td>86</td>\n      <td>83</td>\n      <td>6</td>\n      <td>127</td>\n      <td>1</td>\n      <td>1</td>\n      <td>0</td>\n    </tr>\n    <tr>\n      <th>6</th>\n      <td>울산</td>\n      <td>122</td>\n      <td>90</td>\n      <td>64</td>\n      <td>3</td>\n      <td>45</td>\n      <td>2</td>\n      <td>0</td>\n      <td>0</td>\n    </tr>\n    <tr>\n      <th>7</th>\n      <td>세종</td>\n      <td>53</td>\n      <td>13</td>\n      <td>50</td>\n      <td>2</td>\n      <td>10</td>\n      <td>0</td>\n      <td>0</td>\n      <td>0</td>\n    </tr>\n    <tr>\n      <th>8</th>\n      <td>경기남부</td>\n      <td>976</td>\n      <td>443</td>\n      <td>837</td>\n      <td>21</td>\n      <td>488</td>\n      <td>9</td>\n      <td>4</td>\n      <td>0</td>\n    </tr>\n    <tr>\n      <th>9</th>\n      <td>경기북부</td>\n      <td>376</td>\n      <td>140</td>\n      <td>329</td>\n      <td>10</td>\n      <td>191</td>\n      <td>5</td>\n      <td>1</td>\n      <td>0</td>\n    </tr>\n    <tr>\n      <th>10</th>\n      <td>강원</td>\n      <td>359</td>\n      <td>68</td>\n      <td>238</td>\n      <td>8</td>\n      <td>82</td>\n      <td>0</td>\n      <td>0</td>\n      <td>1</td>\n    </tr>\n    <tr>\n      <th>11</th>\n      <td>충북</td>\n      <td>265</td>\n      <td>57</td>\n      <td>229</td>\n      <td>12</td>\n      <td>158</td>\n      <td>0</td>\n      <td>0</td>\n      <td>0</td>\n    </tr>\n    <tr>\n      <th>12</th>\n      <td>충남</td>\n      <td>418</td>\n      <td>119</td>\n      <td>348</td>\n      <td>12</td>\n      <td>161</td>\n      <td>0</td>\n      <td>0</td>\n      <td>0</td>\n    </tr>\n    <tr>\n      <th>13</th>\n      <td>전북</td>\n      <td>419</td>\n      <td>102</td>\n      <td>349</td>\n      <td>10</td>\n      <td>103</td>\n      <td>1</td>\n      <td>0</td>\n      <td>0</td>\n    </tr>\n    <tr>\n      <th>14</th>\n      <td>전남</td>\n      <td>438</td>\n      <td>59</td>\n      <td>362</td>\n      <td>5</td>\n      <td>184</td>\n      <td>0</td>\n      <td>0</td>\n      <td>0</td>\n    </tr>\n    <tr>\n      <th>15</th>\n      <td>경북</td>\n      <td>495</td>\n      <td>183</td>\n      <td>431</td>\n      <td>7</td>\n      <td>120</td>\n      <td>0</td>\n      <td>0</td>\n      <td>0</td>\n    </tr>\n    <tr>\n      <th>16</th>\n      <td>경남</td>\n      <td>521</td>\n      <td>150</td>\n      <td>395</td>\n      <td>9</td>\n      <td>145</td>\n      <td>1</td>\n      <td>1</td>\n      <td>0</td>\n    </tr>\n    <tr>\n      <th>17</th>\n      <td>제주</td>\n      <td>118</td>\n      <td>18</td>\n      <td>102</td>\n      <td>3</td>\n      <td>92</td>\n      <td>0</td>\n      <td>4</td>\n      <td>0</td>\n    </tr>\n  </tbody>\n</table>\n</div>"
     },
     "execution_count": 5,
     "metadata": {},
     "output_type": "execute_result"
    }
   ],
   "source": [
    "df_child_protection"
   ],
   "metadata": {
    "collapsed": false,
    "ExecuteTime": {
     "end_time": "2024-04-08T04:52:04.232638Z",
     "start_time": "2024-04-08T04:52:04.230101Z"
    }
   },
   "id": "cd5c63e63ab5bec5",
   "execution_count": 5
  },
  {
   "cell_type": "code",
   "outputs": [
    {
     "data": {
      "text/plain": "             학교ID          학교명 학교급구분        설립일자 설립형태 본교분교구분 운영상태  \\\n0      B000004806  미원초등학교장락분교장  초등학교  1944-04-06   공립     분교   운영   \n1      B000005055       모곡초등학교  초등학교  1934-12-15   공립     본교   운영   \n2      B000007420     울진남부초등학교  초등학교  1968-10-22   공립     본교   운영   \n3      B000022879     목포부주초등학교  초등학교  2016-03-01   공립     본교   운영   \n4      B000006241       용동초등학교  초등학교  1950-04-20   공립     본교   운영   \n...           ...          ...   ...         ...  ...    ...  ...   \n11987  B000013206       금오고등학교  고등학교  2001-03-01   공립     본교   운영   \n11988  B000012954  한국K-POP고등학교  고등학교  1962-12-31   사립     본교   운영   \n11989  B000002000     서울대동초등학교  초등학교  1980-10-02   공립     본교   운영   \n11990  B000008572        덕천중학교   중학교  1981-09-16   공립     본교   운영   \n11991  B000025610        일광중학교   중학교  2021-03-01   공립     본교   운영   \n\n                        소재지지번주소                  소재지도로명주소  시도교육청코드  \\\n0         경기도 가평군 설악면 미사리 290-3      경기도 가평군 설악면 미사리로 588  7530000   \n1      강원특별자치도 홍천군 서면 모곡리 184-2     강원특별자치도 홍천군 서면 설밀길 76  7801000   \n2          경상북도 울진군 울진읍 읍내리 290   경상북도 울진군 울진읍 울진중앙로 52-5  8750000   \n3             전라남도 목포시 옥암동 1317      전라남도 목포시 남악2로22번길 37  8490000   \n4       전북특별자치도 김제시 용지면 장신리 280    전북특별자치도 김제시 용지면 용덕길 36  8321000   \n...                         ...                       ...      ...   \n11987        경상북도 구미시 광평동 299-3       경상북도 구미시 박정희로25길 15  8750000   \n11988      충청남도 홍성군 광천읍 신진리 367  충청남도 홍성군 광천읍 광천로373번길 14  8140000   \n11989        서울특별시 영등포구 대림동 702       서울특별시 영등포구 대림로21길 6  7010000   \n11990        부산광역시 북구 덕천동 320-1      부산광역시 북구 만덕대로65번길 50  7150000   \n11991     부산광역시 기장군 일광면 삼성리 749     부산광역시 기장군 일광면 해빛3로 99  7150000   \n\n           시도교육청명  교육지원청코드          교육지원청명        생성일자        변경일자         위도  \\\n0          경기도교육청  7721000      경기도가평교육지원청  2013-11-29  2023-11-15  37.703889   \n1      강원특별자치도교육청  7882000  강원특별자치도홍천교육지원청  2013-11-29  2023-11-15  37.676874   \n2         경상북도교육청  8971000     경상북도울진교육지원청  2013-11-29  2023-11-15  36.987340   \n3         전라남도교육청  8501000     전라남도목포교육지원청  2013-11-29  2023-11-15  34.808753   \n4      전북특별자치도교육청  8382000  전북특별자치도김제교육지원청  2013-11-29  2023-11-15  35.854580   \n...           ...      ...             ...         ...         ...        ...   \n11987     경상북도교육청  8801000     경상북도구미교육지원청  2013-11-29  2023-11-15  36.108950   \n11988     충청남도교육청  8261000     충청남도홍성교육지원청  2013-11-29  2023-11-15  36.507932   \n11989    서울특별시교육청  7041000    서울특별시남부교육지원청  2013-11-29  2023-11-15  37.493705   \n11990    부산광역시교육청  7201000    부산광역시북부교육지원청  2013-11-29  2023-11-15  35.214234   \n11991    부산광역시교육청  7211000   부산광역시해운대교육지원청  2013-11-29  2023-11-15  35.265227   \n\n               경도     데이터기준일자   제공기관코드            제공기관명  \n0      127.540156  2024-03-22  C738100  청주대학교 지방교육재정연구원  \n1      127.600664  2024-03-22  C738100  청주대학교 지방교육재정연구원  \n2      129.399471  2024-03-22  C738100  청주대학교 지방교육재정연구원  \n3      126.456974  2024-03-22  C738100  청주대학교 지방교육재정연구원  \n4      127.003365  2024-03-22  C738100  청주대학교 지방교육재정연구원  \n...           ...         ...      ...              ...  \n11987  128.355632  2024-03-22  C738100  청주대학교 지방교육재정연구원  \n11988  126.621914  2024-03-22  C738100  청주대학교 지방교육재정연구원  \n11989  126.900119  2024-03-22  C738100  청주대학교 지방교육재정연구원  \n11990  129.011813  2024-03-22  C738100  청주대학교 지방교육재정연구원  \n11991  129.220461  2024-03-22  C738100  청주대학교 지방교육재정연구원  \n\n[11992 rows x 20 columns]",
      "text/html": "<div>\n<style scoped>\n    .dataframe tbody tr th:only-of-type {\n        vertical-align: middle;\n    }\n\n    .dataframe tbody tr th {\n        vertical-align: top;\n    }\n\n    .dataframe thead th {\n        text-align: right;\n    }\n</style>\n<table border=\"1\" class=\"dataframe\">\n  <thead>\n    <tr style=\"text-align: right;\">\n      <th></th>\n      <th>학교ID</th>\n      <th>학교명</th>\n      <th>학교급구분</th>\n      <th>설립일자</th>\n      <th>설립형태</th>\n      <th>본교분교구분</th>\n      <th>운영상태</th>\n      <th>소재지지번주소</th>\n      <th>소재지도로명주소</th>\n      <th>시도교육청코드</th>\n      <th>시도교육청명</th>\n      <th>교육지원청코드</th>\n      <th>교육지원청명</th>\n      <th>생성일자</th>\n      <th>변경일자</th>\n      <th>위도</th>\n      <th>경도</th>\n      <th>데이터기준일자</th>\n      <th>제공기관코드</th>\n      <th>제공기관명</th>\n    </tr>\n  </thead>\n  <tbody>\n    <tr>\n      <th>0</th>\n      <td>B000004806</td>\n      <td>미원초등학교장락분교장</td>\n      <td>초등학교</td>\n      <td>1944-04-06</td>\n      <td>공립</td>\n      <td>분교</td>\n      <td>운영</td>\n      <td>경기도 가평군 설악면 미사리 290-3</td>\n      <td>경기도 가평군 설악면 미사리로 588</td>\n      <td>7530000</td>\n      <td>경기도교육청</td>\n      <td>7721000</td>\n      <td>경기도가평교육지원청</td>\n      <td>2013-11-29</td>\n      <td>2023-11-15</td>\n      <td>37.703889</td>\n      <td>127.540156</td>\n      <td>2024-03-22</td>\n      <td>C738100</td>\n      <td>청주대학교 지방교육재정연구원</td>\n    </tr>\n    <tr>\n      <th>1</th>\n      <td>B000005055</td>\n      <td>모곡초등학교</td>\n      <td>초등학교</td>\n      <td>1934-12-15</td>\n      <td>공립</td>\n      <td>본교</td>\n      <td>운영</td>\n      <td>강원특별자치도 홍천군 서면 모곡리 184-2</td>\n      <td>강원특별자치도 홍천군 서면 설밀길 76</td>\n      <td>7801000</td>\n      <td>강원특별자치도교육청</td>\n      <td>7882000</td>\n      <td>강원특별자치도홍천교육지원청</td>\n      <td>2013-11-29</td>\n      <td>2023-11-15</td>\n      <td>37.676874</td>\n      <td>127.600664</td>\n      <td>2024-03-22</td>\n      <td>C738100</td>\n      <td>청주대학교 지방교육재정연구원</td>\n    </tr>\n    <tr>\n      <th>2</th>\n      <td>B000007420</td>\n      <td>울진남부초등학교</td>\n      <td>초등학교</td>\n      <td>1968-10-22</td>\n      <td>공립</td>\n      <td>본교</td>\n      <td>운영</td>\n      <td>경상북도 울진군 울진읍 읍내리 290</td>\n      <td>경상북도 울진군 울진읍 울진중앙로 52-5</td>\n      <td>8750000</td>\n      <td>경상북도교육청</td>\n      <td>8971000</td>\n      <td>경상북도울진교육지원청</td>\n      <td>2013-11-29</td>\n      <td>2023-11-15</td>\n      <td>36.987340</td>\n      <td>129.399471</td>\n      <td>2024-03-22</td>\n      <td>C738100</td>\n      <td>청주대학교 지방교육재정연구원</td>\n    </tr>\n    <tr>\n      <th>3</th>\n      <td>B000022879</td>\n      <td>목포부주초등학교</td>\n      <td>초등학교</td>\n      <td>2016-03-01</td>\n      <td>공립</td>\n      <td>본교</td>\n      <td>운영</td>\n      <td>전라남도 목포시 옥암동 1317</td>\n      <td>전라남도 목포시 남악2로22번길 37</td>\n      <td>8490000</td>\n      <td>전라남도교육청</td>\n      <td>8501000</td>\n      <td>전라남도목포교육지원청</td>\n      <td>2013-11-29</td>\n      <td>2023-11-15</td>\n      <td>34.808753</td>\n      <td>126.456974</td>\n      <td>2024-03-22</td>\n      <td>C738100</td>\n      <td>청주대학교 지방교육재정연구원</td>\n    </tr>\n    <tr>\n      <th>4</th>\n      <td>B000006241</td>\n      <td>용동초등학교</td>\n      <td>초등학교</td>\n      <td>1950-04-20</td>\n      <td>공립</td>\n      <td>본교</td>\n      <td>운영</td>\n      <td>전북특별자치도 김제시 용지면 장신리 280</td>\n      <td>전북특별자치도 김제시 용지면 용덕길 36</td>\n      <td>8321000</td>\n      <td>전북특별자치도교육청</td>\n      <td>8382000</td>\n      <td>전북특별자치도김제교육지원청</td>\n      <td>2013-11-29</td>\n      <td>2023-11-15</td>\n      <td>35.854580</td>\n      <td>127.003365</td>\n      <td>2024-03-22</td>\n      <td>C738100</td>\n      <td>청주대학교 지방교육재정연구원</td>\n    </tr>\n    <tr>\n      <th>...</th>\n      <td>...</td>\n      <td>...</td>\n      <td>...</td>\n      <td>...</td>\n      <td>...</td>\n      <td>...</td>\n      <td>...</td>\n      <td>...</td>\n      <td>...</td>\n      <td>...</td>\n      <td>...</td>\n      <td>...</td>\n      <td>...</td>\n      <td>...</td>\n      <td>...</td>\n      <td>...</td>\n      <td>...</td>\n      <td>...</td>\n      <td>...</td>\n      <td>...</td>\n    </tr>\n    <tr>\n      <th>11987</th>\n      <td>B000013206</td>\n      <td>금오고등학교</td>\n      <td>고등학교</td>\n      <td>2001-03-01</td>\n      <td>공립</td>\n      <td>본교</td>\n      <td>운영</td>\n      <td>경상북도 구미시 광평동 299-3</td>\n      <td>경상북도 구미시 박정희로25길 15</td>\n      <td>8750000</td>\n      <td>경상북도교육청</td>\n      <td>8801000</td>\n      <td>경상북도구미교육지원청</td>\n      <td>2013-11-29</td>\n      <td>2023-11-15</td>\n      <td>36.108950</td>\n      <td>128.355632</td>\n      <td>2024-03-22</td>\n      <td>C738100</td>\n      <td>청주대학교 지방교육재정연구원</td>\n    </tr>\n    <tr>\n      <th>11988</th>\n      <td>B000012954</td>\n      <td>한국K-POP고등학교</td>\n      <td>고등학교</td>\n      <td>1962-12-31</td>\n      <td>사립</td>\n      <td>본교</td>\n      <td>운영</td>\n      <td>충청남도 홍성군 광천읍 신진리 367</td>\n      <td>충청남도 홍성군 광천읍 광천로373번길 14</td>\n      <td>8140000</td>\n      <td>충청남도교육청</td>\n      <td>8261000</td>\n      <td>충청남도홍성교육지원청</td>\n      <td>2013-11-29</td>\n      <td>2023-11-15</td>\n      <td>36.507932</td>\n      <td>126.621914</td>\n      <td>2024-03-22</td>\n      <td>C738100</td>\n      <td>청주대학교 지방교육재정연구원</td>\n    </tr>\n    <tr>\n      <th>11989</th>\n      <td>B000002000</td>\n      <td>서울대동초등학교</td>\n      <td>초등학교</td>\n      <td>1980-10-02</td>\n      <td>공립</td>\n      <td>본교</td>\n      <td>운영</td>\n      <td>서울특별시 영등포구 대림동 702</td>\n      <td>서울특별시 영등포구 대림로21길 6</td>\n      <td>7010000</td>\n      <td>서울특별시교육청</td>\n      <td>7041000</td>\n      <td>서울특별시남부교육지원청</td>\n      <td>2013-11-29</td>\n      <td>2023-11-15</td>\n      <td>37.493705</td>\n      <td>126.900119</td>\n      <td>2024-03-22</td>\n      <td>C738100</td>\n      <td>청주대학교 지방교육재정연구원</td>\n    </tr>\n    <tr>\n      <th>11990</th>\n      <td>B000008572</td>\n      <td>덕천중학교</td>\n      <td>중학교</td>\n      <td>1981-09-16</td>\n      <td>공립</td>\n      <td>본교</td>\n      <td>운영</td>\n      <td>부산광역시 북구 덕천동 320-1</td>\n      <td>부산광역시 북구 만덕대로65번길 50</td>\n      <td>7150000</td>\n      <td>부산광역시교육청</td>\n      <td>7201000</td>\n      <td>부산광역시북부교육지원청</td>\n      <td>2013-11-29</td>\n      <td>2023-11-15</td>\n      <td>35.214234</td>\n      <td>129.011813</td>\n      <td>2024-03-22</td>\n      <td>C738100</td>\n      <td>청주대학교 지방교육재정연구원</td>\n    </tr>\n    <tr>\n      <th>11991</th>\n      <td>B000025610</td>\n      <td>일광중학교</td>\n      <td>중학교</td>\n      <td>2021-03-01</td>\n      <td>공립</td>\n      <td>본교</td>\n      <td>운영</td>\n      <td>부산광역시 기장군 일광면 삼성리 749</td>\n      <td>부산광역시 기장군 일광면 해빛3로 99</td>\n      <td>7150000</td>\n      <td>부산광역시교육청</td>\n      <td>7211000</td>\n      <td>부산광역시해운대교육지원청</td>\n      <td>2013-11-29</td>\n      <td>2023-11-15</td>\n      <td>35.265227</td>\n      <td>129.220461</td>\n      <td>2024-03-22</td>\n      <td>C738100</td>\n      <td>청주대학교 지방교육재정연구원</td>\n    </tr>\n  </tbody>\n</table>\n<p>11992 rows × 20 columns</p>\n</div>"
     },
     "execution_count": 6,
     "metadata": {},
     "output_type": "execute_result"
    }
   ],
   "source": [
    "df_school_location"
   ],
   "metadata": {
    "collapsed": false,
    "ExecuteTime": {
     "end_time": "2024-04-08T04:52:04.600553Z",
     "start_time": "2024-04-08T04:52:04.597017Z"
    }
   },
   "id": "d1c68fdcfbad2d16",
   "execution_count": 6
  },
  {
   "cell_type": "code",
   "outputs": [
    {
     "data": {
      "text/plain": "             학교ID       학교명 학교급구분        설립일자 설립형태 본교분교구분 운영상태  \\\n5      B000008359     구룡중학교   중학교  1989-04-18   공립     본교   운영   \n8      B000012013    마포고등학교  고등학교  1953-07-01   사립     본교   운영   \n24     B000002316  서울대림초등학교  초등학교  1974-03-01   공립     본교   운영   \n33     B000008213     노원중학교   중학교  1989-03-06   공립     본교   운영   \n41     B000008130     영락중학교   중학교  1952-06-10   사립     본교   운영   \n...           ...       ...   ...         ...  ...    ...  ...   \n11929  B000008204     상원중학교   중학교  1993-06-07   공립     본교   운영   \n11940  B000008367     신구중학교   중학교  1988-04-25   공립     본교   운영   \n11972  B000013474    등촌고등학교  고등학교  2004-03-01   공립     본교   운영   \n11974  B000011945  휘경여자고등학교  고등학교  1975-03-03   사립     본교   운영   \n11989  B000002000  서울대동초등학교  초등학교  1980-10-02   공립     본교   운영   \n\n                    소재지지번주소               소재지도로명주소  시도교육청코드    시도교육청명  \\\n5         서울특별시 강남구 개포동 650      서울특별시 강남구 선릉로 103  7010000  서울특별시교육청   \n8        서울특별시 강서구 등촌동 82-1      서울특별시 강서구 화곡로 403  7010000  서울특별시교육청   \n24     서울특별시 동작구 대방동 391-62     서울특별시 동작구 대방동1길 22  7010000  서울특별시교육청   \n33        서울특별시 노원구 상계동 743   서울특별시 노원구 동일로213길 26  7010000  서울특별시교육청   \n41     서울특별시 은평구 응암동 226-13   서울특별시 은평구 백련산로 134-6  7010000  서울특별시교육청   \n...                     ...                    ...      ...       ...   \n11929     서울특별시 노원구 상계동 632     서울특별시 노원구 수락산로 182  7010000  서울특별시교육청   \n11940     서울특별시 강남구 신사동 621   서울특별시 강남구 압구정로36길 17  7010000  서울특별시교육청   \n11972   서울특별시 강서구 등촌동 691-2  서울특별시 강서구 공항대로39길 115  7010000  서울특별시교육청   \n11974   서울특별시 동대문구 휘경동 43-7     서울특별시 동대문구 한천로 247  7010000  서울특별시교육청   \n11989    서울특별시 영등포구 대림동 702    서울특별시 영등포구 대림로21길 6  7010000  서울특별시교육청   \n\n       교육지원청코드          교육지원청명        생성일자        변경일자         위도          경도  \\\n5      7091300  서울특별시강남서초교육지원청  2013-11-29  2023-11-15  37.486153  127.056121   \n8      7081300  서울특별시강서양천교육지원청  2013-11-29  2023-11-15  37.559989  126.853133   \n24     7132000  서울특별시동작관악교육지원청  2013-11-29  2023-11-15  37.500615  126.924883   \n33     7051000    서울특별시북부교육지원청  2013-11-29  2023-11-15  37.649361  127.059692   \n41     7031000    서울특별시서부교육지원청  2013-11-29  2023-11-15  37.596960  126.925133   \n...        ...             ...         ...         ...        ...         ...   \n11929  7051000    서울특별시북부교육지원청  2013-11-29  2023-11-15  37.671766  127.059504   \n11940  7091300  서울특별시강남서초교육지원청  2013-11-29  2023-11-15  37.527442  127.031673   \n11972  7081300  서울특별시강서양천교육지원청  2013-11-29  2023-11-15  37.562945  126.845046   \n11974  7021000    서울특별시동부교육지원청  2013-11-29  2023-11-15  37.581901  127.067434   \n11989  7041000    서울특별시남부교육지원청  2013-11-29  2023-11-15  37.493705  126.900119   \n\n          데이터기준일자   제공기관코드            제공기관명  \n5      2024-03-22  C738100  청주대학교 지방교육재정연구원  \n8      2024-03-22  C738100  청주대학교 지방교육재정연구원  \n24     2024-03-22  C738100  청주대학교 지방교육재정연구원  \n33     2024-03-22  C738100  청주대학교 지방교육재정연구원  \n41     2024-03-22  C738100  청주대학교 지방교육재정연구원  \n...           ...      ...              ...  \n11929  2024-03-22  C738100  청주대학교 지방교육재정연구원  \n11940  2024-03-22  C738100  청주대학교 지방교육재정연구원  \n11972  2024-03-22  C738100  청주대학교 지방교육재정연구원  \n11974  2024-03-22  C738100  청주대학교 지방교육재정연구원  \n11989  2024-03-22  C738100  청주대학교 지방교육재정연구원  \n\n[1309 rows x 20 columns]",
      "text/html": "<div>\n<style scoped>\n    .dataframe tbody tr th:only-of-type {\n        vertical-align: middle;\n    }\n\n    .dataframe tbody tr th {\n        vertical-align: top;\n    }\n\n    .dataframe thead th {\n        text-align: right;\n    }\n</style>\n<table border=\"1\" class=\"dataframe\">\n  <thead>\n    <tr style=\"text-align: right;\">\n      <th></th>\n      <th>학교ID</th>\n      <th>학교명</th>\n      <th>학교급구분</th>\n      <th>설립일자</th>\n      <th>설립형태</th>\n      <th>본교분교구분</th>\n      <th>운영상태</th>\n      <th>소재지지번주소</th>\n      <th>소재지도로명주소</th>\n      <th>시도교육청코드</th>\n      <th>시도교육청명</th>\n      <th>교육지원청코드</th>\n      <th>교육지원청명</th>\n      <th>생성일자</th>\n      <th>변경일자</th>\n      <th>위도</th>\n      <th>경도</th>\n      <th>데이터기준일자</th>\n      <th>제공기관코드</th>\n      <th>제공기관명</th>\n    </tr>\n  </thead>\n  <tbody>\n    <tr>\n      <th>5</th>\n      <td>B000008359</td>\n      <td>구룡중학교</td>\n      <td>중학교</td>\n      <td>1989-04-18</td>\n      <td>공립</td>\n      <td>본교</td>\n      <td>운영</td>\n      <td>서울특별시 강남구 개포동 650</td>\n      <td>서울특별시 강남구 선릉로 103</td>\n      <td>7010000</td>\n      <td>서울특별시교육청</td>\n      <td>7091300</td>\n      <td>서울특별시강남서초교육지원청</td>\n      <td>2013-11-29</td>\n      <td>2023-11-15</td>\n      <td>37.486153</td>\n      <td>127.056121</td>\n      <td>2024-03-22</td>\n      <td>C738100</td>\n      <td>청주대학교 지방교육재정연구원</td>\n    </tr>\n    <tr>\n      <th>8</th>\n      <td>B000012013</td>\n      <td>마포고등학교</td>\n      <td>고등학교</td>\n      <td>1953-07-01</td>\n      <td>사립</td>\n      <td>본교</td>\n      <td>운영</td>\n      <td>서울특별시 강서구 등촌동 82-1</td>\n      <td>서울특별시 강서구 화곡로 403</td>\n      <td>7010000</td>\n      <td>서울특별시교육청</td>\n      <td>7081300</td>\n      <td>서울특별시강서양천교육지원청</td>\n      <td>2013-11-29</td>\n      <td>2023-11-15</td>\n      <td>37.559989</td>\n      <td>126.853133</td>\n      <td>2024-03-22</td>\n      <td>C738100</td>\n      <td>청주대학교 지방교육재정연구원</td>\n    </tr>\n    <tr>\n      <th>24</th>\n      <td>B000002316</td>\n      <td>서울대림초등학교</td>\n      <td>초등학교</td>\n      <td>1974-03-01</td>\n      <td>공립</td>\n      <td>본교</td>\n      <td>운영</td>\n      <td>서울특별시 동작구 대방동 391-62</td>\n      <td>서울특별시 동작구 대방동1길 22</td>\n      <td>7010000</td>\n      <td>서울특별시교육청</td>\n      <td>7132000</td>\n      <td>서울특별시동작관악교육지원청</td>\n      <td>2013-11-29</td>\n      <td>2023-11-15</td>\n      <td>37.500615</td>\n      <td>126.924883</td>\n      <td>2024-03-22</td>\n      <td>C738100</td>\n      <td>청주대학교 지방교육재정연구원</td>\n    </tr>\n    <tr>\n      <th>33</th>\n      <td>B000008213</td>\n      <td>노원중학교</td>\n      <td>중학교</td>\n      <td>1989-03-06</td>\n      <td>공립</td>\n      <td>본교</td>\n      <td>운영</td>\n      <td>서울특별시 노원구 상계동 743</td>\n      <td>서울특별시 노원구 동일로213길 26</td>\n      <td>7010000</td>\n      <td>서울특별시교육청</td>\n      <td>7051000</td>\n      <td>서울특별시북부교육지원청</td>\n      <td>2013-11-29</td>\n      <td>2023-11-15</td>\n      <td>37.649361</td>\n      <td>127.059692</td>\n      <td>2024-03-22</td>\n      <td>C738100</td>\n      <td>청주대학교 지방교육재정연구원</td>\n    </tr>\n    <tr>\n      <th>41</th>\n      <td>B000008130</td>\n      <td>영락중학교</td>\n      <td>중학교</td>\n      <td>1952-06-10</td>\n      <td>사립</td>\n      <td>본교</td>\n      <td>운영</td>\n      <td>서울특별시 은평구 응암동 226-13</td>\n      <td>서울특별시 은평구 백련산로 134-6</td>\n      <td>7010000</td>\n      <td>서울특별시교육청</td>\n      <td>7031000</td>\n      <td>서울특별시서부교육지원청</td>\n      <td>2013-11-29</td>\n      <td>2023-11-15</td>\n      <td>37.596960</td>\n      <td>126.925133</td>\n      <td>2024-03-22</td>\n      <td>C738100</td>\n      <td>청주대학교 지방교육재정연구원</td>\n    </tr>\n    <tr>\n      <th>...</th>\n      <td>...</td>\n      <td>...</td>\n      <td>...</td>\n      <td>...</td>\n      <td>...</td>\n      <td>...</td>\n      <td>...</td>\n      <td>...</td>\n      <td>...</td>\n      <td>...</td>\n      <td>...</td>\n      <td>...</td>\n      <td>...</td>\n      <td>...</td>\n      <td>...</td>\n      <td>...</td>\n      <td>...</td>\n      <td>...</td>\n      <td>...</td>\n      <td>...</td>\n    </tr>\n    <tr>\n      <th>11929</th>\n      <td>B000008204</td>\n      <td>상원중학교</td>\n      <td>중학교</td>\n      <td>1993-06-07</td>\n      <td>공립</td>\n      <td>본교</td>\n      <td>운영</td>\n      <td>서울특별시 노원구 상계동 632</td>\n      <td>서울특별시 노원구 수락산로 182</td>\n      <td>7010000</td>\n      <td>서울특별시교육청</td>\n      <td>7051000</td>\n      <td>서울특별시북부교육지원청</td>\n      <td>2013-11-29</td>\n      <td>2023-11-15</td>\n      <td>37.671766</td>\n      <td>127.059504</td>\n      <td>2024-03-22</td>\n      <td>C738100</td>\n      <td>청주대학교 지방교육재정연구원</td>\n    </tr>\n    <tr>\n      <th>11940</th>\n      <td>B000008367</td>\n      <td>신구중학교</td>\n      <td>중학교</td>\n      <td>1988-04-25</td>\n      <td>공립</td>\n      <td>본교</td>\n      <td>운영</td>\n      <td>서울특별시 강남구 신사동 621</td>\n      <td>서울특별시 강남구 압구정로36길 17</td>\n      <td>7010000</td>\n      <td>서울특별시교육청</td>\n      <td>7091300</td>\n      <td>서울특별시강남서초교육지원청</td>\n      <td>2013-11-29</td>\n      <td>2023-11-15</td>\n      <td>37.527442</td>\n      <td>127.031673</td>\n      <td>2024-03-22</td>\n      <td>C738100</td>\n      <td>청주대학교 지방교육재정연구원</td>\n    </tr>\n    <tr>\n      <th>11972</th>\n      <td>B000013474</td>\n      <td>등촌고등학교</td>\n      <td>고등학교</td>\n      <td>2004-03-01</td>\n      <td>공립</td>\n      <td>본교</td>\n      <td>운영</td>\n      <td>서울특별시 강서구 등촌동 691-2</td>\n      <td>서울특별시 강서구 공항대로39길 115</td>\n      <td>7010000</td>\n      <td>서울특별시교육청</td>\n      <td>7081300</td>\n      <td>서울특별시강서양천교육지원청</td>\n      <td>2013-11-29</td>\n      <td>2023-11-15</td>\n      <td>37.562945</td>\n      <td>126.845046</td>\n      <td>2024-03-22</td>\n      <td>C738100</td>\n      <td>청주대학교 지방교육재정연구원</td>\n    </tr>\n    <tr>\n      <th>11974</th>\n      <td>B000011945</td>\n      <td>휘경여자고등학교</td>\n      <td>고등학교</td>\n      <td>1975-03-03</td>\n      <td>사립</td>\n      <td>본교</td>\n      <td>운영</td>\n      <td>서울특별시 동대문구 휘경동 43-7</td>\n      <td>서울특별시 동대문구 한천로 247</td>\n      <td>7010000</td>\n      <td>서울특별시교육청</td>\n      <td>7021000</td>\n      <td>서울특별시동부교육지원청</td>\n      <td>2013-11-29</td>\n      <td>2023-11-15</td>\n      <td>37.581901</td>\n      <td>127.067434</td>\n      <td>2024-03-22</td>\n      <td>C738100</td>\n      <td>청주대학교 지방교육재정연구원</td>\n    </tr>\n    <tr>\n      <th>11989</th>\n      <td>B000002000</td>\n      <td>서울대동초등학교</td>\n      <td>초등학교</td>\n      <td>1980-10-02</td>\n      <td>공립</td>\n      <td>본교</td>\n      <td>운영</td>\n      <td>서울특별시 영등포구 대림동 702</td>\n      <td>서울특별시 영등포구 대림로21길 6</td>\n      <td>7010000</td>\n      <td>서울특별시교육청</td>\n      <td>7041000</td>\n      <td>서울특별시남부교육지원청</td>\n      <td>2013-11-29</td>\n      <td>2023-11-15</td>\n      <td>37.493705</td>\n      <td>126.900119</td>\n      <td>2024-03-22</td>\n      <td>C738100</td>\n      <td>청주대학교 지방교육재정연구원</td>\n    </tr>\n  </tbody>\n</table>\n<p>1309 rows × 20 columns</p>\n</div>"
     },
     "execution_count": 7,
     "metadata": {},
     "output_type": "execute_result"
    }
   ],
   "source": [
    "df_seoul_school = df_school_location[df_school_location['시도교육청명'] == '서울특별시교육청']\n",
    "df_seoul_school"
   ],
   "metadata": {
    "collapsed": false,
    "ExecuteTime": {
     "end_time": "2024-04-08T04:52:04.976748Z",
     "start_time": "2024-04-08T04:52:04.973844Z"
    }
   },
   "id": "f29cdd0a56e08ed4",
   "execution_count": 7
  },
  {
   "cell_type": "code",
   "outputs": [
    {
     "data": {
      "text/plain": "5           구룡중학교\n8          마포고등학교\n24       서울대림초등학교\n33          노원중학교\n41          영락중학교\n           ...   \n11929       상원중학교\n11940       신구중학교\n11972      등촌고등학교\n11974    휘경여자고등학교\n11989    서울대동초등학교\nName: 학교명, Length: 1309, dtype: object"
     },
     "execution_count": 8,
     "metadata": {},
     "output_type": "execute_result"
    }
   ],
   "source": [
    "df_seoul_school.학교명"
   ],
   "metadata": {
    "collapsed": false,
    "ExecuteTime": {
     "end_time": "2024-04-08T04:52:05.557091Z",
     "start_time": "2024-04-08T04:52:05.553913Z"
    }
   },
   "id": "77816365a49c0cf",
   "execution_count": 8
  }
 ],
 "metadata": {
  "kernelspec": {
   "display_name": "Python 3",
   "language": "python",
   "name": "python3"
  },
  "language_info": {
   "codemirror_mode": {
    "name": "ipython",
    "version": 2
   },
   "file_extension": ".py",
   "mimetype": "text/x-python",
   "name": "python",
   "nbconvert_exporter": "python",
   "pygments_lexer": "ipython2",
   "version": "2.7.6"
  }
 },
 "nbformat": 4,
 "nbformat_minor": 5
}
